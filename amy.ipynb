{
 "cells": [
  {
   "cell_type": "code",
   "execution_count": 70,
   "metadata": {},
   "outputs": [],
   "source": [
    "using CSV\n",
    "using LinearAlgebra\n",
    "using Clustering"
   ]
  },
  {
   "cell_type": "code",
   "execution_count": 71,
   "metadata": {},
   "outputs": [
    {
     "data": {
      "text/plain": [
       "150-element CSV.File{false}:\n",
       " CSV.Row: (Index = 1, SepalLength = 5.1, SepalWidth = 3.5, PetalLength = 1.4, PetalWidth = 0.2)\n",
       " CSV.Row: (Index = 2, SepalLength = 4.9, SepalWidth = 3.0, PetalLength = 1.4, PetalWidth = 0.2)\n",
       " CSV.Row: (Index = 3, SepalLength = 4.7, SepalWidth = 3.2, PetalLength = 1.3, PetalWidth = 0.2)\n",
       " CSV.Row: (Index = 4, SepalLength = 4.6, SepalWidth = 3.1, PetalLength = 1.5, PetalWidth = 0.2)\n",
       " CSV.Row: (Index = 5, SepalLength = 5.0, SepalWidth = 3.6, PetalLength = 1.4, PetalWidth = 0.2)\n",
       " CSV.Row: (Index = 6, SepalLength = 5.4, SepalWidth = 3.9, PetalLength = 1.7, PetalWidth = 0.4)\n",
       " CSV.Row: (Index = 7, SepalLength = 4.6, SepalWidth = 3.4, PetalLength = 1.4, PetalWidth = 0.3)\n",
       " CSV.Row: (Index = 8, SepalLength = 5.0, SepalWidth = 3.4, PetalLength = 1.5, PetalWidth = 0.2)\n",
       " CSV.Row: (Index = 9, SepalLength = 4.4, SepalWidth = 2.9, PetalLength = 1.4, PetalWidth = 0.2)\n",
       " CSV.Row: (Index = 10, SepalLength = 4.9, SepalWidth = 3.1, PetalLength = 1.5, PetalWidth = 0.1)\n",
       " CSV.Row: (Index = 11, SepalLength = 5.4, SepalWidth = 3.7, PetalLength = 1.5, PetalWidth = 0.2)\n",
       " CSV.Row: (Index = 12, SepalLength = 4.8, SepalWidth = 3.4, PetalLength = 1.6, PetalWidth = 0.2)\n",
       " CSV.Row: (Index = 13, SepalLength = 4.8, SepalWidth = 3.0, PetalLength = 1.4, PetalWidth = 0.1)\n",
       " ⋮\n",
       " CSV.Row: (Index = 139, SepalLength = 6.0, SepalWidth = 3.0, PetalLength = 4.8, PetalWidth = 1.8)\n",
       " CSV.Row: (Index = 140, SepalLength = 6.9, SepalWidth = 3.1, PetalLength = 5.4, PetalWidth = 2.1)\n",
       " CSV.Row: (Index = 141, SepalLength = 6.7, SepalWidth = 3.1, PetalLength = 5.6, PetalWidth = 2.4)\n",
       " CSV.Row: (Index = 142, SepalLength = 6.9, SepalWidth = 3.1, PetalLength = 5.1, PetalWidth = 2.3)\n",
       " CSV.Row: (Index = 143, SepalLength = 5.8, SepalWidth = 2.7, PetalLength = 5.1, PetalWidth = 1.9)\n",
       " CSV.Row: (Index = 144, SepalLength = 6.8, SepalWidth = 3.2, PetalLength = 5.9, PetalWidth = 2.3)\n",
       " CSV.Row: (Index = 145, SepalLength = 6.7, SepalWidth = 3.3, PetalLength = 5.7, PetalWidth = 2.5)\n",
       " CSV.Row: (Index = 146, SepalLength = 6.7, SepalWidth = 3.0, PetalLength = 5.2, PetalWidth = 2.3)\n",
       " CSV.Row: (Index = 147, SepalLength = 6.3, SepalWidth = 2.5, PetalLength = 5.0, PetalWidth = 1.9)\n",
       " CSV.Row: (Index = 148, SepalLength = 6.5, SepalWidth = 3.0, PetalLength = 5.2, PetalWidth = 2.0)\n",
       " CSV.Row: (Index = 149, SepalLength = 6.2, SepalWidth = 3.4, PetalLength = 5.4, PetalWidth = 2.3)\n",
       " CSV.Row: (Index = 150, SepalLength = 5.9, SepalWidth = 3.0, PetalLength = 5.1, PetalWidth = 1.8)"
      ]
     },
     "execution_count": 71,
     "metadata": {},
     "output_type": "execute_result"
    }
   ],
   "source": [
    "irisData = CSV.File(\"Iris Data Set.csv\")"
   ]
  },
  {
   "cell_type": "code",
   "execution_count": 72,
   "metadata": {},
   "outputs": [
    {
     "data": {
      "text/plain": [
       "150×150 Array{Float64,2}:\n",
       " 0.0  0.2  0.4  0.5  0.1  0.3  0.5  0.1  …  1.7  1.6  1.6  1.2  1.4  1.1  0.8\n",
       " 0.2  0.0  0.2  0.3  0.1  0.5  0.3  0.1     1.9  1.8  1.8  1.4  1.6  1.3  1.0\n",
       " 0.4  0.2  0.0  0.1  0.3  0.7  0.1  0.3     2.1  2.0  2.0  1.6  1.8  1.5  1.2\n",
       " 0.5  0.3  0.1  0.0  0.4  0.8  0.0  0.4     2.2  2.1  2.1  1.7  1.9  1.6  1.3\n",
       " 0.1  0.1  0.3  0.4  0.0  0.4  0.4  0.0     1.8  1.7  1.7  1.3  1.5  1.2  0.9\n",
       " 0.3  0.5  0.7  0.8  0.4  0.0  0.8  0.4  …  1.4  1.3  1.3  0.9  1.1  0.8  0.5\n",
       " 0.5  0.3  0.1  0.0  0.4  0.8  0.0  0.4     2.2  2.1  2.1  1.7  1.9  1.6  1.3\n",
       " 0.1  0.1  0.3  0.4  0.0  0.4  0.4  0.0     1.8  1.7  1.7  1.3  1.5  1.2  0.9\n",
       " 0.7  0.5  0.3  0.2  0.6  1.0  0.2  0.6     2.4  2.3  2.3  1.9  2.1  1.8  1.5\n",
       " 0.2  0.0  0.2  0.3  0.1  0.5  0.3  0.1     1.9  1.8  1.8  1.4  1.6  1.3  1.0\n",
       " 0.3  0.5  0.7  0.8  0.4  0.0  0.8  0.4  …  1.4  1.3  1.3  0.9  1.1  0.8  0.5\n",
       " 0.3  0.1  0.1  0.2  0.2  0.6  0.2  0.2     2.0  1.9  1.9  1.5  1.7  1.4  1.1\n",
       " 0.3  0.1  0.1  0.2  0.2  0.6  0.2  0.2     2.0  1.9  1.9  1.5  1.7  1.4  1.1\n",
       " ⋮                        ⋮              ⋱            ⋮                   \n",
       " 0.9  1.1  1.3  1.4  1.0  0.6  1.4  1.0     0.8  0.7  0.7  0.3  0.5  0.2  0.1\n",
       " 1.8  2.0  2.2  2.3  1.9  1.5  2.3  1.9     0.1  0.2  0.2  0.6  0.4  0.7  1.0\n",
       " 1.6  1.8  2.0  2.1  1.7  1.3  2.1  1.7  …  0.1  0.0  0.0  0.4  0.2  0.5  0.8\n",
       " 1.8  2.0  2.2  2.3  1.9  1.5  2.3  1.9     0.1  0.2  0.2  0.6  0.4  0.7  1.0\n",
       " 0.7  0.9  1.1  1.2  0.8  0.4  1.2  0.8     1.0  0.9  0.9  0.5  0.7  0.4  0.1\n",
       " 1.7  1.9  2.1  2.2  1.8  1.4  2.2  1.8     0.0  0.1  0.1  0.5  0.3  0.6  0.9\n",
       " 1.6  1.8  2.0  2.1  1.7  1.3  2.1  1.7     0.1  0.0  0.0  0.4  0.2  0.5  0.8\n",
       " 1.6  1.8  2.0  2.1  1.7  1.3  2.1  1.7  …  0.1  0.0  0.0  0.4  0.2  0.5  0.8\n",
       " 1.2  1.4  1.6  1.7  1.3  0.9  1.7  1.3     0.5  0.4  0.4  0.0  0.2  0.1  0.4\n",
       " 1.4  1.6  1.8  1.9  1.5  1.1  1.9  1.5     0.3  0.2  0.2  0.2  0.0  0.3  0.6\n",
       " 1.1  1.3  1.5  1.6  1.2  0.8  1.6  1.2     0.6  0.5  0.5  0.1  0.3  0.0  0.3\n",
       " 0.8  1.0  1.2  1.3  0.9  0.5  1.3  0.9     0.9  0.8  0.8  0.4  0.6  0.3  0.0"
      ]
     },
     "metadata": {},
     "output_type": "display_data"
    }
   ],
   "source": [
    "#generate similarity matrix\n",
    "similarityMatrix = zeros(150, 150)\n",
    "for row in irisData\n",
    "    for col in irisData\n",
    "        similarityMatrix[row.Index, col.Index] = abs(row.SepalLength - col.SepalLength);\n",
    "    end\n",
    "end\n",
    "display(similarityMatrix);"
   ]
  },
  {
   "cell_type": "code",
   "execution_count": 73,
   "metadata": {},
   "outputs": [
    {
     "data": {
      "text/plain": [
       "150×150 Array{Float64,2}:\n",
       " 1.0  1.0  0.0  0.0  1.0  0.0  0.0  1.0  …  0.0  0.0  0.0  0.0  0.0  0.0  0.0\n",
       " 1.0  1.0  1.0  0.0  1.0  0.0  0.0  1.0     0.0  0.0  0.0  0.0  0.0  0.0  0.0\n",
       " 0.0  1.0  1.0  1.0  0.0  0.0  1.0  0.0     0.0  0.0  0.0  0.0  0.0  0.0  0.0\n",
       " 0.0  0.0  1.0  1.0  0.0  0.0  1.0  0.0     0.0  0.0  0.0  0.0  0.0  0.0  0.0\n",
       " 1.0  1.0  0.0  0.0  1.0  0.0  0.0  1.0     0.0  0.0  0.0  0.0  0.0  0.0  0.0\n",
       " 0.0  0.0  0.0  0.0  0.0  1.0  0.0  0.0  …  0.0  0.0  0.0  0.0  0.0  0.0  0.0\n",
       " 0.0  0.0  1.0  1.0  0.0  0.0  1.0  0.0     0.0  0.0  0.0  0.0  0.0  0.0  0.0\n",
       " 1.0  1.0  0.0  0.0  1.0  0.0  0.0  1.0     0.0  0.0  0.0  0.0  0.0  0.0  0.0\n",
       " 0.0  0.0  0.0  1.0  0.0  0.0  1.0  0.0     0.0  0.0  0.0  0.0  0.0  0.0  0.0\n",
       " 1.0  1.0  1.0  0.0  1.0  0.0  0.0  1.0     0.0  0.0  0.0  0.0  0.0  0.0  0.0\n",
       " 0.0  0.0  0.0  0.0  0.0  1.0  0.0  0.0  …  0.0  0.0  0.0  0.0  0.0  0.0  0.0\n",
       " 0.0  1.0  1.0  1.0  1.0  0.0  1.0  1.0     0.0  0.0  0.0  0.0  0.0  0.0  0.0\n",
       " 0.0  1.0  1.0  1.0  1.0  0.0  1.0  1.0     0.0  0.0  0.0  0.0  0.0  0.0  0.0\n",
       " ⋮                        ⋮              ⋱            ⋮                   \n",
       " 0.0  0.0  0.0  0.0  0.0  0.0  0.0  0.0     0.0  0.0  0.0  0.0  0.0  1.0  1.0\n",
       " 0.0  0.0  0.0  0.0  0.0  0.0  0.0  0.0     1.0  1.0  1.0  0.0  0.0  0.0  0.0\n",
       " 0.0  0.0  0.0  0.0  0.0  0.0  0.0  0.0  …  1.0  1.0  1.0  0.0  1.0  0.0  0.0\n",
       " 0.0  0.0  0.0  0.0  0.0  0.0  0.0  0.0     1.0  1.0  1.0  0.0  0.0  0.0  0.0\n",
       " 0.0  0.0  0.0  0.0  0.0  0.0  0.0  0.0     0.0  0.0  0.0  0.0  0.0  0.0  1.0\n",
       " 0.0  0.0  0.0  0.0  0.0  0.0  0.0  0.0     1.0  1.0  1.0  0.0  0.0  0.0  0.0\n",
       " 0.0  0.0  0.0  0.0  0.0  0.0  0.0  0.0     1.0  1.0  1.0  0.0  1.0  0.0  0.0\n",
       " 0.0  0.0  0.0  0.0  0.0  0.0  0.0  0.0  …  1.0  1.0  1.0  0.0  1.0  0.0  0.0\n",
       " 0.0  0.0  0.0  0.0  0.0  0.0  0.0  0.0     0.0  0.0  0.0  1.0  1.0  1.0  0.0\n",
       " 0.0  0.0  0.0  0.0  0.0  0.0  0.0  0.0     0.0  1.0  1.0  1.0  1.0  0.0  0.0\n",
       " 0.0  0.0  0.0  0.0  0.0  0.0  0.0  0.0     0.0  0.0  0.0  1.0  0.0  1.0  0.0\n",
       " 0.0  0.0  0.0  0.0  0.0  0.0  0.0  0.0     0.0  0.0  0.0  0.0  0.0  0.0  1.0"
      ]
     },
     "metadata": {},
     "output_type": "display_data"
    }
   ],
   "source": [
    "#generate sigma neighborhood adjacency matrix\n",
    "adjacencyMatrix = zeros(150, 150)\n",
    "for row in irisData\n",
    "    for col in irisData\n",
    "        if similarityMatrix[row.Index, col.Index] > .25\n",
    "            adjacencyMatrix[row.Index, col.Index] = 0   \n",
    "        else\n",
    "            adjacencyMatrix[row.Index, col.Index] = 1\n",
    "        end\n",
    "        \n",
    "    end\n",
    "end\n",
    "display(adjacencyMatrix);"
   ]
  },
  {
   "cell_type": "code",
   "execution_count": null,
   "metadata": {},
   "outputs": [],
   "source": [
    "#generate degree matrix\n",
    "degreeMatrix = zeros(150, 150)\n",
    "for i = 1:150\n",
    "    counter = 0\n",
    "    for j = 1:150\n",
    "        if i != j\n",
    "            if adjacencyMatrix[i, j] == 1\n",
    "                counter = counter + 1\n",
    "            end\n",
    "        end\n",
    "    end\n",
    "    degreeMatrix[i, i] = counter;\n",
    "end\n",
    "display(degreeMatrix);"
   ]
  },
  {
   "cell_type": "code",
   "execution_count": null,
   "metadata": {},
   "outputs": [],
   "source": [
    "#generate laplacian matrix\n",
    "laplacianMatrix = zeros(150, 150)\n",
    "for i = 1:150\n",
    "    for j = 1:150\n",
    "        laplacianMatrix[i, j] = degreeMatrix[i, j] - adjacencyMatrix[i, j]\n",
    "    end\n",
    "end\n",
    "display(laplacianMatrix)"
   ]
  },
  {
   "cell_type": "code",
   "execution_count": null,
   "metadata": {},
   "outputs": [],
   "source": [
    "eigvecLaplacian = eigvecs(laplacianMatrix)"
   ]
  },
  {
   "cell_type": "code",
   "execution_count": null,
   "metadata": {},
   "outputs": [],
   "source": [
    "#generate laplacian matrix\n",
    "kEigvecLaplacian = zeros(150, 3)\n",
    "for i = 1:150\n",
    "    for j = 1:3\n",
    "        kEigvecLaplacian[i, j] = eigvecLaplacian[i, j]\n",
    "    end\n",
    "end\n",
    "display(kEigvecLaplacian)"
   ]
  },
  {
   "cell_type": "code",
   "execution_count": null,
   "metadata": {},
   "outputs": [],
   "source": [
    "X = transpose(kEigvecLaplacian)\n",
    "R = kmeans(X, 3; maxiter=300, display=:iter)"
   ]
  },
  {
   "cell_type": "code",
   "execution_count": null,
   "metadata": {},
   "outputs": [],
   "source": [
    "using RDatasets, Clustering, Plots\n",
    "iris = dataset(\"datasets\", \"iris\"); # load the data\n",
    "\n",
    "features = collect(Matrix(iris[:, 1:4])'); # features to use for clustering\n",
    "result = kmeans(features, 3); # run K-means for the 3 clusters\n",
    "\n",
    "# plot with the point color mapped to the assigned cluster index\n",
    "scatter(iris.PetalLength, iris.PetalWidth, marker_z=result.assignments,\n",
    "        color=:lightrainbow, legend=false)"
   ]
  },
  {
   "cell_type": "code",
   "execution_count": null,
   "metadata": {},
   "outputs": [],
   "source": []
  },
  {
   "cell_type": "code",
   "execution_count": null,
   "metadata": {},
   "outputs": [],
   "source": []
  },
  {
   "cell_type": "code",
   "execution_count": null,
   "metadata": {},
   "outputs": [],
   "source": []
  }
 ],
 "metadata": {
  "kernelspec": {
   "display_name": "Julia 1.5.3",
   "language": "julia",
   "name": "julia-1.5"
  },
  "language_info": {
   "file_extension": ".jl",
   "mimetype": "application/julia",
   "name": "julia",
   "version": "1.5.3"
  }
 },
 "nbformat": 4,
 "nbformat_minor": 4
}
