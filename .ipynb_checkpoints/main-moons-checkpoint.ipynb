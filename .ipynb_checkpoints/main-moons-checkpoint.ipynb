{
 "cells": [
  {
   "cell_type": "code",
   "execution_count": 6,
   "metadata": {},
   "outputs": [
    {
     "name": "stderr",
     "output_type": "stream",
     "text": [
      "\u001b[32m\u001b[1m  Resolving\u001b[22m\u001b[39m package versions...\n",
      "\u001b[32m\u001b[1mNo Changes\u001b[22m\u001b[39m to `~/.julia/environments/v1.5/Project.toml`\n",
      "\u001b[32m\u001b[1mNo Changes\u001b[22m\u001b[39m to `~/.julia/environments/v1.5/Manifest.toml`\n",
      "\u001b[32m\u001b[1m  Resolving\u001b[22m\u001b[39m package versions...\n",
      "\u001b[32m\u001b[1mNo Changes\u001b[22m\u001b[39m to `~/.julia/environments/v1.5/Project.toml`\n",
      "\u001b[32m\u001b[1mNo Changes\u001b[22m\u001b[39m to `~/.julia/environments/v1.5/Manifest.toml`\n",
      "\u001b[32m\u001b[1m  Resolving\u001b[22m\u001b[39m package versions...\n",
      "\u001b[32m\u001b[1mNo Changes\u001b[22m\u001b[39m to `~/.julia/environments/v1.5/Project.toml`\n",
      "\u001b[32m\u001b[1mNo Changes\u001b[22m\u001b[39m to `~/.julia/environments/v1.5/Manifest.toml`\n",
      "\u001b[32m\u001b[1m  Resolving\u001b[22m\u001b[39m package versions...\n",
      "\u001b[32m\u001b[1mNo Changes\u001b[22m\u001b[39m to `~/.julia/environments/v1.5/Project.toml`\n",
      "\u001b[32m\u001b[1mNo Changes\u001b[22m\u001b[39m to `~/.julia/environments/v1.5/Manifest.toml`\n"
     ]
    },
    {
     "ename": "LoadError",
     "evalue": "IOError: cwd: operation not permitted (EPERM)",
     "output_type": "error",
     "traceback": [
      "IOError: cwd: operation not permitted (EPERM)",
      "",
      "Stacktrace:",
      " [1] uv_error at ./libuv.jl:97 [inlined]",
      " [2] uv_error at ./libuv.jl:96 [inlined]",
      " [3] pwd() at ./file.jl:59",
      " [4] abspath(::String) at ./path.jl:383",
      " [5] _include_dependency at ./loading.jl:811 [inlined]",
      " [6] nbinclude(::Module, ::String; renumber::Bool, counters::UnitRange{Int64}, regex::Regex, anshook::typeof(identity), softscope::Bool) at /Users/michellezhu/.julia/packages/NBInclude/mNhzW/src/NBInclude.jl:54",
      " [7] nbinclude(::Module, ::String) at /Users/michellezhu/.julia/packages/NBInclude/mNhzW/src/NBInclude.jl:53",
      " [8] top-level scope at In[6]:13",
      " [9] include_string(::Function, ::Module, ::String, ::String) at ./loading.jl:1091"
     ]
    }
   ],
   "source": [
    "using Pkg\n",
    "Pkg.add(\"CSV\")\n",
    "Pkg.add(\"Clustering\")\n",
    "Pkg.add(\"NBInclude\")\n",
    "Pkg.add(\"Plots\")\n",
    "\n",
    "\n",
    "using CSV\n",
    "using LinearAlgebra\n",
    "using Clustering\n",
    "using NBInclude\n",
    "using Plots\n",
    "@nbinclude(\"functions.ipynb\")\n",
    "\n",
    "circleData = CSV.File(\"moons.csv\")\n",
    "similarityMatrix = generateSimilarityMatrixMoons(circleData, 500)\n",
    "adjacencyMatrix = generateAdjacencyMatrix(circleData, similarityMatrix, 500)\n",
    "degreeMatrix = generateDegreeMatrix(adjacencyMatrix, 500)\n",
    "laplacianMatrix = degreeMatrix - adjacencyMatrix\n",
    "normalizedLaplacianMatrix = generateNormalizedLaplacianMatrix(degreeMatrix, adjacencyMatrix, 500)\n",
    "k = calculateK(laplacianMatrix)\n",
    "k = 2\n",
    "eigvecLaplacian = eigvecs(laplacianMatrix)\n",
    "kEigvecLaplacian = getFirstKEigvecs(eigvecLaplacian, 500, k)\n",
    "\n",
    "\n",
    "X = transpose(kEigvecLaplacian)\n",
    "R = kmeans(X, k; maxiter=300, display=:iter)\n",
    "\n",
    "# plot with the point color mapped to the assigned cluster index\n",
    "scatter(circleData.x, circleData.y, marker_z=R.assignments,\n",
    "        color=:lightrainbow, legend=false)"
   ]
  },
  {
   "cell_type": "code",
   "execution_count": null,
   "metadata": {},
   "outputs": [],
   "source": []
  },
  {
   "cell_type": "code",
   "execution_count": null,
   "metadata": {},
   "outputs": [],
   "source": []
  },
  {
   "cell_type": "code",
   "execution_count": null,
   "metadata": {},
   "outputs": [],
   "source": []
  }
 ],
 "metadata": {
  "kernelspec": {
   "display_name": "Julia 1.5.1",
   "language": "julia",
   "name": "julia-1.5"
  },
  "language_info": {
   "file_extension": ".jl",
   "mimetype": "application/julia",
   "name": "julia",
   "version": "1.5.1"
  }
 },
 "nbformat": 4,
 "nbformat_minor": 4
}
