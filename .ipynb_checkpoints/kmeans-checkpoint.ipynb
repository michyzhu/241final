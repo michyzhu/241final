{
 "cells": [
  {
   "cell_type": "code",
   "execution_count": null,
   "metadata": {},
   "outputs": [],
   "source": [
    "function similarity(i, j)"
   ]
  },
  {
   "cell_type": "code",
   "execution_count": null,
   "metadata": {},
   "outputs": [],
   "source": [
    "function generateSimilarityMatrix(similarityFunction, data, size, kNeighbors)\n",
    "    \n",
    "    #initialize array of priorityqueues\n",
    "    similarityQueues = Array{PriorityQueue{Int,Int,Base.Order.ForwardOrdering}, size}\n",
    "    for i in 1:size\n",
    "        similarityQueues[i] = PriorityQueue()\n",
    "    end\n",
    "    \n",
    "    #fill priorityqueues with similarity values, only top k are preserved\n",
    "    for i in 1:size\n",
    "        for j in 1:size\n",
    "           enqueue(similarityQueues[i], j, similarity(i, j))\n",
    "            \n",
    "            if (i > kNeighbors)\n",
    "                dequeue(similarityQueues[i])\n",
    "        end\n",
    "    end\n",
    "    \n",
    "    #create and fill similarity matrix\n",
    "    similarityMatrix = zeros(size,size)\n",
    "    for i in 1:size\n",
    "        for j in 1:kNeighbors\n",
    "            k = dequeue(similarityQueues[i])\n",
    "            similarityMatrix[i, k] = similarity(i, j)\n",
    "        end\n",
    "    end\n",
    "    return similarityMatrix\n",
    "end"
   ]
  },
  {
   "cell_type": "code",
   "execution_count": null,
   "metadata": {},
   "outputs": [],
   "source": [
    "using Pkg\n",
    "Pkg.add(\"DataStructures\")\n",
    "using DataStructures"
   ]
  }
 ],
 "metadata": {
  "kernelspec": {
   "display_name": "Julia 1.5.3",
   "language": "julia",
   "name": "julia-1.5"
  },
  "language_info": {
   "file_extension": ".jl",
   "mimetype": "application/julia",
   "name": "julia",
   "version": "1.5.3"
  }
 },
 "nbformat": 4,
 "nbformat_minor": 4
}
