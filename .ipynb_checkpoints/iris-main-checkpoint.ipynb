{
 "cells": [
  {
   "cell_type": "code",
   "execution_count": 68,
   "metadata": {},
   "outputs": [
    {
     "data": {
      "text/plain": [
       "generateSimilarityMatrix (generic function with 1 method)"
      ]
     },
     "execution_count": 68,
     "metadata": {},
     "output_type": "execute_result"
    }
   ],
   "source": [
    "function generateSimilarityMatrix(data, size)\n",
    "    similarityMatrix = zeros(size, size)\n",
    "    for row in data\n",
    "        for col in data\n",
    "            a = row.PetalWidth - col.PetalWidth\n",
    "            b = row.PetalLength - col.PetalLength\n",
    "            c = row.SepalWidth - col.SepalWidth\n",
    "            d = row.SepalLength - col.SepalLength\n",
    "            similarityMatrix[row.Index, col.Index] = sqrt(a^2 + b^2 + c^2 + d^2);\n",
    "        end\n",
    "    end\n",
    "    return similarityMatrix\n",
    "end"
   ]
  },
  {
   "cell_type": "code",
   "execution_count": 69,
   "metadata": {},
   "outputs": [
    {
     "data": {
      "text/plain": [
       "generateAdjacencyMatrix (generic function with 1 method)"
      ]
     },
     "execution_count": 69,
     "metadata": {},
     "output_type": "execute_result"
    }
   ],
   "source": [
    "function generateAdjacencyMatrix(data, similarityMatrix, size)\n",
    "    adjacencyMatrix = zeros(size, size)\n",
    "    for row in data\n",
    "        for col in data\n",
    "            if similarityMatrix[row.Index, col.Index] > .3\n",
    "                adjacencyMatrix[row.Index, col.Index] = 0   \n",
    "            else\n",
    "                adjacencyMatrix[row.Index, col.Index] = 1\n",
    "            end\n",
    "\n",
    "        end\n",
    "    end\n",
    "    return adjacencyMatrix\n",
    "end"
   ]
  },
  {
   "cell_type": "code",
   "execution_count": 70,
   "metadata": {},
   "outputs": [
    {
     "data": {
      "text/plain": [
       "generateDegreeMatrix (generic function with 1 method)"
      ]
     },
     "execution_count": 70,
     "metadata": {},
     "output_type": "execute_result"
    }
   ],
   "source": [
    "function generateDegreeMatrix(adjacencyMatrix, size)\n",
    "    degreeMatrix = zeros(size, size)\n",
    "    for i = 1:size\n",
    "        counter = 0\n",
    "        for j = 1:size\n",
    "            if i != j\n",
    "                if adjacencyMatrix[i, j] == 1\n",
    "                    counter = counter + 1\n",
    "                end\n",
    "            end\n",
    "        end\n",
    "        degreeMatrix[i, i] = counter;\n",
    "    end\n",
    "    return degreeMatrix\n",
    "end"
   ]
  },
  {
   "cell_type": "code",
   "execution_count": 71,
   "metadata": {},
   "outputs": [
    {
     "data": {
      "text/plain": [
       "getFirstKEigvecs (generic function with 1 method)"
      ]
     },
     "execution_count": 71,
     "metadata": {},
     "output_type": "execute_result"
    }
   ],
   "source": [
    "function getFirstKEigvecs(kEigvecLaplacian, size, k)\n",
    "    #get first k eigenvalues\n",
    "    kEigvecLaplacian = zeros(size, k)\n",
    "    for j = 1:3\n",
    "        kEigvecLaplacian[:, j] = eigvecLaplacian[:, 151-j]\n",
    "    end\n",
    "    return kEigvecLaplacian\n",
    "end"
   ]
  },
  {
   "cell_type": "code",
   "execution_count": 85,
   "metadata": {},
   "outputs": [
    {
     "data": {
      "text/plain": [
       "getFirstKEigvals (generic function with 1 method)"
      ]
     },
     "execution_count": 85,
     "metadata": {},
     "output_type": "execute_result"
    }
   ],
   "source": [
    "function getFirstKEigvals(laplacianMatrix, size, k)\n",
    "    #get first k eigenvalues\n",
    "    returnK = zeros(3)\n",
    "    AllEigVals = eigvals(laplacianMatrix)\n",
    "    for j = 1:3\n",
    "        returnK[j] = AllEigVals[150-j]\n",
    "    end\n",
    "    return returnK\n",
    "end"
   ]
  },
  {
   "cell_type": "code",
   "execution_count": 86,
   "metadata": {},
   "outputs": [
    {
     "data": {
      "text/plain": [
       "generateNormalizedLaplacianMatrix (generic function with 1 method)"
      ]
     },
     "execution_count": 86,
     "metadata": {},
     "output_type": "execute_result"
    }
   ],
   "source": [
    "function generateNormalizedLaplacianMatrix(degreeMatrix, adjacencyMatrix, size)\n",
    "    degreeMatrixPower = zeros(size, size);\n",
    "    for i = 1:size\n",
    "        degreeMatrixPower[i,i] = degreeMatrix[i,i]^(-1/2)\n",
    "    end\n",
    "    normalizedLaplacianMatrix = degreeMatrixPower * adjacencyMatrix * degreeMatrixPower\n",
    "end"
   ]
  },
  {
   "cell_type": "code",
   "execution_count": 87,
   "metadata": {},
   "outputs": [
    {
     "data": {
      "text/plain": [
       "generateNormalizedLaplacianMatrix (generic function with 1 method)"
      ]
     },
     "execution_count": 87,
     "metadata": {},
     "output_type": "execute_result"
    }
   ],
   "source": [
    "function generateNormalizedLaplacianMatrix(degreeMatrix, adjacencyMatrix, size)\n",
    "    degreeMatrixPower = zeros(size, size);\n",
    "    for i = 1:size\n",
    "        degreeMatrixPower[i,i] = degreeMatrix[i,i]^(-1/2)\n",
    "    end\n",
    "    normalizedLaplacianMatrix = degreeMatrixPower * adjacencyMatrix * degreeMatrixPower\n",
    "end"
   ]
  },
  {
   "cell_type": "code",
   "execution_count": null,
   "metadata": {},
   "outputs": [],
   "source": []
  },
  {
   "cell_type": "code",
   "execution_count": 88,
   "metadata": {},
   "outputs": [
    {
     "data": {
      "text/plain": [
       "calculateK (generic function with 1 method)"
      ]
     },
     "execution_count": 88,
     "metadata": {},
     "output_type": "execute_result"
    }
   ],
   "source": [
    "function calculateK(laplacianMatrix)\n",
    "    eigvalLaplacian = eigvals(laplacianMatrix)\n",
    "\n",
    "    maxGap = -1\n",
    "    bestK = -1\n",
    "\n",
    "    for k = 140:150\n",
    "        gap = abs(eigvalLaplacian[k] - eigvalLaplacian[k-1])\n",
    "        if (gap > maxGap)\n",
    "            maxGap = gap\n",
    "            bestK = k\n",
    "        end\n",
    "    end\n",
    "    display(bestK) \n",
    "end"
   ]
  },
  {
   "cell_type": "code",
   "execution_count": 89,
   "metadata": {},
   "outputs": [
    {
     "ename": "LoadError",
     "evalue": "MethodError: no method matching eigvecs(::Array{Float64,2}, ::Array{Float64,1})\nClosest candidates are:\n  eigvecs(!Matched::SymTridiagonal{var\"#s826\",V} where V<:AbstractArray{var\"#s826\",1} where var\"#s826\"<:Union{Complex{Float32}, Complex{Float64}, Float32, Float64}, ::Array{var\"#s825\",1} where var\"#s825\"<:Real) at /Users/julia/buildbot/worker/package_macos64/build/usr/share/julia/stdlib/v1.5/LinearAlgebra/src/tridiag.jl:348\n  eigvecs(::Union{Number, AbstractArray{T,2} where T}; kws...) at /Users/julia/buildbot/worker/package_macos64/build/usr/share/julia/stdlib/v1.5/LinearAlgebra/src/eigen.jl:257\n  eigvecs(::AbstractArray{T,2} where T, !Matched::AbstractArray{T,2} where T; kws...) at /Users/julia/buildbot/worker/package_macos64/build/usr/share/julia/stdlib/v1.5/LinearAlgebra/src/eigen.jl:607",
     "output_type": "error",
     "traceback": [
      "MethodError: no method matching eigvecs(::Array{Float64,2}, ::Array{Float64,1})\nClosest candidates are:\n  eigvecs(!Matched::SymTridiagonal{var\"#s826\",V} where V<:AbstractArray{var\"#s826\",1} where var\"#s826\"<:Union{Complex{Float32}, Complex{Float64}, Float32, Float64}, ::Array{var\"#s825\",1} where var\"#s825\"<:Real) at /Users/julia/buildbot/worker/package_macos64/build/usr/share/julia/stdlib/v1.5/LinearAlgebra/src/tridiag.jl:348\n  eigvecs(::Union{Number, AbstractArray{T,2} where T}; kws...) at /Users/julia/buildbot/worker/package_macos64/build/usr/share/julia/stdlib/v1.5/LinearAlgebra/src/eigen.jl:257\n  eigvecs(::AbstractArray{T,2} where T, !Matched::AbstractArray{T,2} where T; kws...) at /Users/julia/buildbot/worker/package_macos64/build/usr/share/julia/stdlib/v1.5/LinearAlgebra/src/eigen.jl:607",
      "",
      "Stacktrace:",
      " [1] top-level scope at In[89]:15",
      " [2] include_string(::Function, ::Module, ::String, ::String) at ./loading.jl:1091"
     ]
    }
   ],
   "source": [
    "using CSV\n",
    "using LinearAlgebra\n",
    "using Clustering\n",
    "using Plots\n",
    "\n",
    "#don't really need to be importing from the csv lmao\n",
    "irisData = CSV.File(\"Iris Data Set.csv\")\n",
    "similarityMatrix = generateSimilarityMatrix(irisData, 150) #add argument for column #s\n",
    "adjacencyMatrix = generateAdjacencyMatrix(irisData, similarityMatrix, 150)\n",
    "degreeMatrix = generateDegreeMatrix(adjacencyMatrix, 150)\n",
    "laplacianMatrix = degreeMatrix - adjacencyMatrix\n",
    "eigvecLaplacian = eigvecs(laplacianMatrix)\n",
    "kEigvecLaplacian = getFirstKEigvecs(eigvecLaplacian, 150, 3)\n",
    "\n",
    "X = transpose(kEigvecLaplacian)\n",
    "R = kmeans(X, 3; maxiter=300, display=:iter)\n",
    "using RDatasets, Clustering, Plots\n",
    "iris = dataset(\"datasets\", \"iris\"); # load the data\n",
    "\n",
    "# plot with the point color mapped to the assigned cluster index\n",
    "scatter(iris.PetalLength, iris.PetalWidth, marker_z=R.assignments,\n",
    "        color=:lightrainbow, legend=false)"
   ]
  },
  {
   "cell_type": "code",
   "execution_count": null,
   "metadata": {},
   "outputs": [],
   "source": []
  },
  {
   "cell_type": "code",
   "execution_count": null,
   "metadata": {},
   "outputs": [],
   "source": []
  },
  {
   "cell_type": "code",
   "execution_count": null,
   "metadata": {},
   "outputs": [],
   "source": []
  },
  {
   "cell_type": "code",
   "execution_count": null,
   "metadata": {},
   "outputs": [],
   "source": []
  }
 ],
 "metadata": {
  "kernelspec": {
   "display_name": "Julia 1.5.1",
   "language": "julia",
   "name": "julia-1.5"
  },
  "language_info": {
   "file_extension": ".jl",
   "mimetype": "application/julia",
   "name": "julia",
   "version": "1.5.1"
  }
 },
 "nbformat": 4,
 "nbformat_minor": 4
}
