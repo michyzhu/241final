{
 "cells": [
  {
   "cell_type": "code",
   "execution_count": 37,
   "metadata": {},
   "outputs": [
    {
     "data": {
      "text/plain": [
       "generateDegreeMatrix (generic function with 1 method)"
      ]
     },
     "execution_count": 37,
     "metadata": {},
     "output_type": "execute_result"
    }
   ],
   "source": [
    "function generateDegreeMatrix(adjacencyMatrix, size)\n",
    "    degreeMatrix = zeros(size, size)\n",
    "    for i = 1:size\n",
    "        counter = 0\n",
    "        for j = 1:size\n",
    "            if i != j\n",
    "                if adjacencyMatrix[i, j] == 1\n",
    "                    counter = counter + 1\n",
    "                end\n",
    "            end\n",
    "        end\n",
    "        degreeMatrix[i, i] = counter;\n",
    "    end\n",
    "    return degreeMatrix\n",
    "end"
   ]
  },
  {
   "cell_type": "code",
   "execution_count": 38,
   "metadata": {},
   "outputs": [
    {
     "data": {
      "text/plain": [
       "generateAdjacencyMatrix (generic function with 1 method)"
      ]
     },
     "execution_count": 38,
     "metadata": {},
     "output_type": "execute_result"
    }
   ],
   "source": [
    "function generateAdjacencyMatrix(similarityMatrix, size)\n",
    "    adjacencyMatrix = zeros(size, size)\n",
    "    \n",
    "   for i in 1:size\n",
    "        for j in 1:size\n",
    "            if similarityMatrix[i, j] > .75\n",
    "                adjacencyMatrix[i, j] = 0   \n",
    "            else\n",
    "                adjacencyMatrix[i, j] = 1\n",
    "            end\n",
    "        end\n",
    "    end\n",
    "    return adjacencyMatrix\n",
    "end"
   ]
  },
  {
   "cell_type": "code",
   "execution_count": 39,
   "metadata": {},
   "outputs": [
    {
     "data": {
      "text/plain": [
       "getFirstKEigvecs (generic function with 1 method)"
      ]
     },
     "execution_count": 39,
     "metadata": {},
     "output_type": "execute_result"
    }
   ],
   "source": [
    "function getFirstKEigvecs(kEigvecLaplacian, size, k)\n",
    "    #get first k eigenvalues\n",
    "    kEigvecLaplacian = zeros(size, k)\n",
    "    for j = 1:k\n",
    "        kEigvecLaplacian[:, j] = eigvecLaplacian[:, j]\n",
    "    end\n",
    "    return kEigvecLaplacian\n",
    "end"
   ]
  },
  {
   "cell_type": "code",
   "execution_count": 40,
   "metadata": {},
   "outputs": [
    {
     "data": {
      "text/plain": [
       "generateNormalizedLaplacianMatrix (generic function with 1 method)"
      ]
     },
     "execution_count": 40,
     "metadata": {},
     "output_type": "execute_result"
    }
   ],
   "source": [
    "function generateNormalizedLaplacianMatrix(degreeMatrix, laplacianMatrix, size)\n",
    "    degreeMatrixPower = zeros(size, size);\n",
    "    for i = 1:size\n",
    "        degreeMatrixPower[i,i] = degreeMatrix[i,i]^(-1/2)\n",
    "    end\n",
    "    normalizedLaplacianMatrix = degreeMatrixPower * laplacianMatrix * degreeMatrixPower\n",
    "end"
   ]
  },
  {
   "cell_type": "code",
   "execution_count": 41,
   "metadata": {},
   "outputs": [
    {
     "data": {
      "text/plain": [
       "generateNormRWLaplacian (generic function with 1 method)"
      ]
     },
     "execution_count": 41,
     "metadata": {},
     "output_type": "execute_result"
    }
   ],
   "source": [
    "function generateNormRWLaplacian(degreeMatrix, laplacianMatrix, size)\n",
    "    degreeInv = zeros(size, size);\n",
    "    for i = 1:size\n",
    "        degreeInv[i,i] = degreeMatrix[i,i]^(-1)\n",
    "    end\n",
    "    normalizedLaplacianMatrix = degreeInv * laplacianMatrix\n",
    "end"
   ]
  },
  {
   "cell_type": "code",
   "execution_count": 42,
   "metadata": {},
   "outputs": [
    {
     "data": {
      "text/plain": [
       "calculateK (generic function with 1 method)"
      ]
     },
     "execution_count": 42,
     "metadata": {},
     "output_type": "execute_result"
    }
   ],
   "source": [
    "function calculateK(laplacianMatrix)\n",
    "    eigvalLaplacian = eigvals(laplacianMatrix)\n",
    "\n",
    "    maxGap = -1\n",
    "    bestK = -1\n",
    "\n",
    "    for k = 2:10\n",
    "        gap = abs(eigvalLaplacian[k] - eigvalLaplacian[k-1])\n",
    "        if (gap > maxGap)\n",
    "            maxGap = gap\n",
    "            bestK = k\n",
    "        end\n",
    "    end\n",
    "end"
   ]
  },
  {
   "cell_type": "code",
   "execution_count": null,
   "metadata": {},
   "outputs": [],
   "source": []
  },
  {
   "cell_type": "code",
   "execution_count": null,
   "metadata": {},
   "outputs": [],
   "source": []
  },
  {
   "cell_type": "code",
   "execution_count": null,
   "metadata": {},
   "outputs": [],
   "source": []
  },
  {
   "cell_type": "code",
   "execution_count": null,
   "metadata": {},
   "outputs": [],
   "source": []
  },
  {
   "cell_type": "code",
   "execution_count": null,
   "metadata": {},
   "outputs": [],
   "source": []
  },
  {
   "cell_type": "code",
   "execution_count": null,
   "metadata": {},
   "outputs": [],
   "source": []
  }
 ],
 "metadata": {
  "kernelspec": {
   "display_name": "Julia 1.5.3",
   "language": "julia",
   "name": "julia-1.5"
  },
  "language_info": {
   "file_extension": ".jl",
   "mimetype": "application/julia",
   "name": "julia",
   "version": "1.5.3"
  }
 },
 "nbformat": 4,
 "nbformat_minor": 4
}
