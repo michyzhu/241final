{
 "cells": [
  {
   "cell_type": "code",
   "execution_count": null,
   "metadata": {},
   "outputs": [],
   "source": [
    "# import everything\n",
    "using CSV\n",
    "using LinearAlgebra\n",
    "using Clustering\n",
    "using NBInclude\n",
    "using Plots\n",
    "using RDatasets\n",
    "using DataFrames\n",
    "@nbinclude(\"functions.ipynb\")"
   ]
  },
  {
   "cell_type": "code",
   "execution_count": null,
   "metadata": {},
   "outputs": [],
   "source": [
    "function gaussyBoi(d1,d2)\n",
    "    magnitude = 0\n",
    "    attributes = propertynames(d1);\n",
    "    for i in 2:20500\n",
    "        attribute = attributes[i]\n",
    "        value1 = getproperty(d1, attribute)\n",
    "        value2 = getproperty(d2, attribute)\n",
    "        magnitude = magnitude + (value1 - value2)^2\n",
    "\n",
    "    end\n",
    "    sig = 5\n",
    "    return exp(-magnitude/(2*sig^2))\n",
    "end"
   ]
  },
  {
   "cell_type": "code",
   "execution_count": null,
   "metadata": {},
   "outputs": [],
   "source": [
    "function gaussyBoiMatrix(d1,d2, dataMatrix)\n",
    "    magnitude = 0\n",
    "    attributes = propertynames(d1);\n",
    "    for i in 2:20500\n",
    "        magnitude = magnitude + (dataMatrix[d1, i] - dataMatrix[d1, i])^2\n",
    "\n",
    "    end\n",
    "    sig = 5\n",
    "    return exp(-magnitude/(2*sig^2))\n",
    "end"
   ]
  },
  {
   "cell_type": "code",
   "execution_count": null,
   "metadata": {},
   "outputs": [],
   "source": [
    "function fillMatrix(df)\n",
    "    \n",
    "    matrix = zeros(800, 20500)\n",
    "    for i in 2:801\n",
    "        for j in 2:20500\n",
    "            attribute = attributes[j]\n",
    "            matrix[i, j] = getproperty(d1, attribute)\n",
    "        end\n",
    "    end\n",
    "\n",
    "    return matrix\n",
    "end"
   ]
  },
  {
   "cell_type": "code",
   "execution_count": null,
   "metadata": {},
   "outputs": [],
   "source": [
    "function generateSimilarityMatrix(data,size, matrix)\n",
    "    similarityMatrix = zeros(size,size) # 800 by 800 array\n",
    "    for i in 1:800\n",
    "        print(\"row\",i)\n",
    "        d1 = data[i,:]\n",
    "        for j in 1:800\n",
    "            d2 = data[j,:]\n",
    "            similarityMatrix[i, j] = gaussyBoiMatrix(d1,d2, matrix);\n",
    "        end\n",
    "    end\n",
    "    return similarityMatrix\n",
    "end"
   ]
  },
  {
   "cell_type": "code",
   "execution_count": null,
   "metadata": {},
   "outputs": [],
   "source": [
    "#circleData = CSV.File(\"circles.csv\")\n",
    "#moonsData = CSV.File(\"moons.csv\")\n",
    "#irisData = CSV.File(\"Iris Data Set.csv\") # load the data\n",
    "geneData = CSV.File(\"data.csv\")\n",
    "\n",
    "\n",
    "df = DataFrame(geneData)\n",
    "matrix = fillMatrix(df)\n",
    "\n",
    "#constants\n",
    "data = geneData\n",
    "similarityFunction = gaussyBoi\n",
    "s = 800\n",
    "\n",
    "display(\"similarity begins\")\n",
    "similarityMatrix = generateSimilarityMatrix(df, s, matrix) #add argument for column #s\n",
    "adjacencyMatrix = generateAdjacencyMatrix(data, similarityMatrix, s)\n",
    "degreeMatrix = generateDegreeMatrix(adjacencyMatrix, s)\n",
    "laplacianMatrix = degreeMatrix - adjacencyMatrix\n",
    "normalizedLaplacianMatrix = generateNormalizedLaplacianMatrix(degreeMatrix, laplacianMatrix, s)\n",
    "normalizedRWLaplacian = generateNormRWLaplacian(degreeMatrix,laplacianMatrix,s)\n",
    "\n",
    "ourLaplace = normalizedLaplacianMatrix\n",
    "#ourLaplace = normalizedRWLaplacian\n",
    "\n",
    "k = calculateK(ourLaplace)\n",
    "k = 2\n",
    "eigvecLaplacian = eigvecs(ourLaplace)\n",
    "kEigvecLaplacian = getFirstKEigvecs(eigvecLaplacian, s, k)\n",
    "\n",
    "X = transpose(kEigvecLaplacian)\n",
    "R = kmeans(X, k; maxiter=300, display=:iter)\n",
    "\n",
    "# plot with the point color mapped to the assigned cluster index\n",
    "scatter(data.x, data.y, marker_z=R.assignments,\n",
    "        color=:lightrainbow, legend=false)"
   ]
  },
  {
   "cell_type": "code",
   "execution_count": null,
   "metadata": {},
   "outputs": [],
   "source": []
  },
  {
   "cell_type": "code",
   "execution_count": null,
   "metadata": {},
   "outputs": [],
   "source": []
  },
  {
   "cell_type": "code",
   "execution_count": null,
   "metadata": {},
   "outputs": [],
   "source": []
  },
  {
   "cell_type": "code",
   "execution_count": null,
   "metadata": {},
   "outputs": [],
   "source": []
  }
 ],
 "metadata": {
  "kernelspec": {
   "display_name": "Julia 1.5.3",
   "language": "julia",
   "name": "julia-1.5"
  },
  "language_info": {
   "file_extension": ".jl",
   "mimetype": "application/julia",
   "name": "julia",
   "version": "1.5.3"
  }
 },
 "nbformat": 4,
 "nbformat_minor": 4
}
