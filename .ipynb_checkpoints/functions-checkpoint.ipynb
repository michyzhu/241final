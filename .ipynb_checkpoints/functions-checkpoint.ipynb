{
 "cells": [
  {
   "cell_type": "code",
   "execution_count": 57,
   "metadata": {},
   "outputs": [
    {
     "data": {
      "text/plain": [
       "generateSimilarityMatrix (generic function with 1 method)"
      ]
     },
     "execution_count": 57,
     "metadata": {},
     "output_type": "execute_result"
    }
   ],
   "source": [
    "function generateSimilarityMatrix(similarityFunction,data, size)\n",
    "    similarityMatrix = zeros(size,size)\n",
    "    for d1 in data\n",
    "        for d2 in data\n",
    "            similarityMatrix[d1.Index, d2.Index] = similarityFunction(d1,d2) # row,col are data points with (x,y) vals\n",
    "        end\n",
    "    end\n",
    "    return similarityMatrix\n",
    "end"
   ]
  },
  {
   "cell_type": "code",
   "execution_count": 58,
   "metadata": {},
   "outputs": [
    {
     "data": {
      "text/plain": [
       "irisCompare (generic function with 1 method)"
      ]
     },
     "execution_count": 58,
     "metadata": {},
     "output_type": "execute_result"
    }
   ],
   "source": [
    "function irisCompare(i, j)\n",
    "    \n",
    "    return i.sepalWidth - j.sepalWidth;\n",
    "   \n",
    "end"
   ]
  },
  {
   "cell_type": "code",
   "execution_count": 70,
   "metadata": {},
   "outputs": [
    {
     "data": {
      "text/plain": [
       "generateKNNSimilarityMatrix (generic function with 1 method)"
      ]
     },
     "execution_count": 70,
     "metadata": {},
     "output_type": "execute_result"
    }
   ],
   "source": [
    "function generateKNNSimilarityMatrix(similarityFunction, data, size, kNeighbors)\n",
    "    \n",
    "    #initialize array of priorityqueues\n",
    "    similarityQueues = Array{PriorityQueue{Int,Int,Base.Order.ForwardOrdering}, size}\n",
    "    for i in 1:size\n",
    "        similarityQueues[i] = PriorityQueue{Int64,Int64,Base.Order.ForwardOrdering}()\n",
    "    end\n",
    "    \n",
    "    #fill priorityqueues with similarity values, only top k are preserved\n",
    "    for d1 in data\n",
    "        for d2 in data\n",
    "           enqueue(similarityQueues[d1.Index], d2.Index, similarity(d1, d2))\n",
    "            \n",
    "            if (i > kNeighbors)\n",
    "                dequeue(similarityQueues[d1.Index])\n",
    "            end\n",
    "        end\n",
    "    end\n",
    "    \n",
    "    #create and fill similarity matrix\n",
    "    similarityMatrix = zeros(size,size)\n",
    "    for d1 in data\n",
    "        for d2 in data\n",
    "            k = dequeue(similarityQueues[d1.Index])\n",
    "            similarityMatrix[d1.Index, k] = similarity(d1.Index, d2.Index)\n",
    "        end\n",
    "    end\n",
    "    return similarityMatrix\n",
    "end"
   ]
  },
  {
   "cell_type": "code",
   "execution_count": 68,
   "metadata": {},
   "outputs": [
    {
     "data": {
      "text/plain": [
       "generateAdjacencyMatrix (generic function with 2 methods)"
      ]
     },
     "execution_count": 68,
     "metadata": {},
     "output_type": "execute_result"
    }
   ],
   "source": [
    "function generateAdjacencyMatrix(data, similarityMatrix, size, threshold)\n",
    "    adjacencyMatrix = zeros(size, size)\n",
    "    i = 0\n",
    "    for row in data\n",
    "        j = 0\n",
    "        for col in data\n",
    "            if similarityMatrix[row.Index, col.Index] > threshold\n",
    "                adjacencyMatrix[row.Index, col.Index] = 0\n",
    "            else\n",
    "                adjacencyMatrix[row.Index, col.Index] = 1\n",
    "            end\n",
    "\n",
    "        end\n",
    "    end\n",
    "    display(adjacencyMatrix)\n",
    "    return adjacencyMatrix\n",
    "end"
   ]
  },
  {
   "cell_type": "code",
   "execution_count": 61,
   "metadata": {},
   "outputs": [
    {
     "data": {
      "text/plain": [
       "generateAdjacencyMatrix (generic function with 2 methods)"
      ]
     },
     "execution_count": 61,
     "metadata": {},
     "output_type": "execute_result"
    }
   ],
   "source": [
    "function generateAdjacencyMatrix(data, similarityMatrix, size)\n",
    "    adjacencyMatrix = zeros(size, size)\n",
    "    for row in data\n",
    "        for col in data\n",
    "            if similarityMatrix[row.Index, col.Index] > .055555\n",
    "                adjacencyMatrix[row.Index, col.Index] = 0   \n",
    "            else\n",
    "                adjacencyMatrix[row.Index, col.Index] = 1\n",
    "            end\n",
    "\n",
    "        end\n",
    "    end\n",
    "    display(adjacencyMatrix)\n",
    "    return adjacencyMatrix\n",
    "end"
   ]
  },
  {
   "cell_type": "code",
   "execution_count": 62,
   "metadata": {},
   "outputs": [
    {
     "data": {
      "text/plain": [
       "generateDegreeMatrix (generic function with 1 method)"
      ]
     },
     "execution_count": 62,
     "metadata": {},
     "output_type": "execute_result"
    }
   ],
   "source": [
    "function generateDegreeMatrix(adjacencyMatrix, size)\n",
    "    degreeMatrix = zeros(size, size)\n",
    "    for i = 1:size\n",
    "        counter = 0\n",
    "        for j = 1:size\n",
    "            if i != j\n",
    "                if adjacencyMatrix[i, j] == 1\n",
    "                    counter = counter + 1\n",
    "                end\n",
    "            end\n",
    "        end\n",
    "        degreeMatrix[i, i] = counter;\n",
    "    end\n",
    "    return degreeMatrix\n",
    "end"
   ]
  },
  {
   "cell_type": "code",
   "execution_count": 63,
   "metadata": {},
   "outputs": [
    {
     "data": {
      "text/plain": [
       "getFirstKEigvecs (generic function with 1 method)"
      ]
     },
     "execution_count": 63,
     "metadata": {},
     "output_type": "execute_result"
    }
   ],
   "source": [
    "function getFirstKEigvecs(kEigvecLaplacian, size, k)\n",
    "    #get first k eigenvalues\n",
    "    kEigvecLaplacian = zeros(size, k)\n",
    "    for j = 1:k\n",
    "        kEigvecLaplacian[:, j] = eigvecLaplacian[:, j]\n",
    "    end\n",
    "    return kEigvecLaplacian\n",
    "end"
   ]
  },
  {
   "cell_type": "code",
   "execution_count": 64,
   "metadata": {},
   "outputs": [
    {
     "data": {
      "text/plain": [
       "generateNormalizedLaplacianMatrix (generic function with 1 method)"
      ]
     },
     "execution_count": 64,
     "metadata": {},
     "output_type": "execute_result"
    }
   ],
   "source": [
    "function generateNormalizedLaplacianMatrix(degreeMatrix, laplacianMatrix, size)\n",
    "    degreeMatrixPower = zeros(size, size);\n",
    "    for i = 1:size\n",
    "        degreeMatrixPower[i,i] = degreeMatrix[i,i]^(-1/2)\n",
    "    end\n",
    "    normalizedLaplacianMatrix = degreeMatrixPower * laplacianMatrix * degreeMatrixPower\n",
    "end"
   ]
  },
  {
   "cell_type": "code",
   "execution_count": 65,
   "metadata": {},
   "outputs": [
    {
     "data": {
      "text/plain": [
       "generateNormRWLaplacian (generic function with 1 method)"
      ]
     },
     "execution_count": 65,
     "metadata": {},
     "output_type": "execute_result"
    }
   ],
   "source": [
    "function generateNormRWLaplacian(degreeMatrix, laplacianMatrix, size)\n",
    "    degreeInv = zeros(size, size);\n",
    "    for i = 1:size\n",
    "        degreeInv[i,i] = degreeMatrix[i,i]^(-1)\n",
    "    end\n",
    "    normalizedLaplacianMatrix = degreeInv * laplacianMatrix\n",
    "end"
   ]
  },
  {
   "cell_type": "code",
   "execution_count": 66,
   "metadata": {},
   "outputs": [
    {
     "data": {
      "text/plain": [
       "calculateK (generic function with 1 method)"
      ]
     },
     "execution_count": 66,
     "metadata": {},
     "output_type": "execute_result"
    }
   ],
   "source": [
    "function calculateK(laplacianMatrix)\n",
    "    eigvalLaplacian = eigvals(laplacianMatrix)\n",
    "\n",
    "    maxGap = -1\n",
    "    bestK = -1\n",
    "\n",
    "    for k = 2:10\n",
    "        gap = abs(eigvalLaplacian[k] - eigvalLaplacian[k-1])\n",
    "        if (gap > maxGap)\n",
    "            maxGap = gap\n",
    "            bestK = k\n",
    "        end\n",
    "    end\n",
    "    display(bestK) \n",
    "end"
   ]
  },
  {
   "cell_type": "code",
   "execution_count": null,
   "metadata": {},
   "outputs": [],
   "source": []
  },
  {
   "cell_type": "code",
   "execution_count": null,
   "metadata": {},
   "outputs": [],
   "source": []
  },
  {
   "cell_type": "code",
   "execution_count": null,
   "metadata": {},
   "outputs": [],
   "source": []
  },
  {
   "cell_type": "code",
   "execution_count": null,
   "metadata": {},
   "outputs": [],
   "source": []
  },
  {
   "cell_type": "code",
   "execution_count": null,
   "metadata": {},
   "outputs": [],
   "source": []
  },
  {
   "cell_type": "code",
   "execution_count": null,
   "metadata": {},
   "outputs": [],
   "source": []
  }
 ],
 "metadata": {
  "kernelspec": {
   "display_name": "Julia 1.5.3",
   "language": "julia",
   "name": "julia-1.5"
  },
  "language_info": {
   "file_extension": ".jl",
   "mimetype": "application/julia",
   "name": "julia",
   "version": "1.5.3"
  }
 },
 "nbformat": 4,
 "nbformat_minor": 4
}
