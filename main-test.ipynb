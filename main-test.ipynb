{
 "cells": [
  {
   "cell_type": "code",
   "execution_count": 47,
   "metadata": {},
   "outputs": [
    {
     "data": {
      "text/plain": [
       "euclideanToFixed (generic function with 1 method)"
      ]
     },
     "execution_count": 47,
     "metadata": {},
     "output_type": "execute_result"
    }
   ],
   "source": [
    "function euclideanToFixed(d1,d2)\n",
    "    dist1 = sqrt(d1.x^2 + d1.y^2)\n",
    "    dist2 = sqrt(d2.x^2 + d2.y^2)\n",
    "    return abs(dist1 - dist2);\n",
    "end"
   ]
  },
  {
   "cell_type": "code",
   "execution_count": 48,
   "metadata": {},
   "outputs": [
    {
     "data": {
      "text/plain": [
       "euclideanBetweenTwoPoints (generic function with 1 method)"
      ]
     },
     "execution_count": 48,
     "metadata": {},
     "output_type": "execute_result"
    }
   ],
   "source": [
    "function euclideanBetweenTwoPoints(d1,d2)\n",
    "    dx = d1.x - d2.x\n",
    "    dy = d1.y - d2.y\n",
    "    return sqrt(dx^2 + dy^2);\n",
    "end"
   ]
  },
  {
   "cell_type": "code",
   "execution_count": 51,
   "metadata": {},
   "outputs": [
    {
     "ename": "LoadError",
     "evalue": "MethodError: no method matching PriorityQueue{Int64,Int64,Base.Order.ForwardOrdering}()\nClosest candidates are:\n  PriorityQueue{Int64,Int64,Base.Order.ForwardOrdering}(!Matched::O) where {K, V, O<:Base.Order.Ordering} at /Users/bitterblue/.julia/packages/DataStructures/5hvIb/src/priorityqueue.jl:34\n  PriorityQueue{Int64,Int64,Base.Order.ForwardOrdering}(!Matched::Array{Pair{K,V},1}, !Matched::O, !Matched::Dict{K,Int64}) where {K, V, O<:Base.Order.Ordering} at /Users/bitterblue/.julia/packages/DataStructures/5hvIb/src/priorityqueue.jl:38\n  PriorityQueue{Int64,Int64,Base.Order.ForwardOrdering}(!Matched::O, !Matched::Any) where {K, V, O<:Base.Order.Ordering} at /Users/bitterblue/.julia/packages/DataStructures/5hvIb/src/priorityqueue.jl:40",
     "output_type": "error",
     "traceback": [
      "MethodError: no method matching PriorityQueue{Int64,Int64,Base.Order.ForwardOrdering}()\nClosest candidates are:\n  PriorityQueue{Int64,Int64,Base.Order.ForwardOrdering}(!Matched::O) where {K, V, O<:Base.Order.Ordering} at /Users/bitterblue/.julia/packages/DataStructures/5hvIb/src/priorityqueue.jl:34\n  PriorityQueue{Int64,Int64,Base.Order.ForwardOrdering}(!Matched::Array{Pair{K,V},1}, !Matched::O, !Matched::Dict{K,Int64}) where {K, V, O<:Base.Order.Ordering} at /Users/bitterblue/.julia/packages/DataStructures/5hvIb/src/priorityqueue.jl:38\n  PriorityQueue{Int64,Int64,Base.Order.ForwardOrdering}(!Matched::O, !Matched::Any) where {K, V, O<:Base.Order.Ordering} at /Users/bitterblue/.julia/packages/DataStructures/5hvIb/src/priorityqueue.jl:40",
      "",
      "Stacktrace:",
      " [1] generateKNNSimilarityMatrix(::Function, ::CSV.File{false}, ::Int64, ::Int64) at /Users/bitterblue/Documents/GitHub/241final/functions.ipynb:In[69]:6",
      " [2] top-level scope at In[51]:20",
      " [3] include_string(::Function, ::Module, ::String, ::String) at ./loading.jl:1091"
     ]
    }
   ],
   "source": [
    "using CSV\n",
    "using LinearAlgebra\n",
    "using Clustering\n",
    "using NBInclude\n",
    "using Plots\n",
    "using RDatasets\n",
    "using DataStructures\n",
    "@nbinclude(\"functions.ipynb\")\n",
    "\n",
    "circleData = CSV.File(\"circles.csv\")\n",
    "moonsData = CSV.File(\"moons.csv\")\n",
    "irisData = CSV.File(\"Iris Data Set.csv\") # load the data\n",
    "\n",
    "\n",
    "# change what data and similarity function you want here\n",
    "data = irisData\n",
    "similarityFunction = irisCompare\n",
    "s = 150\n",
    "\n",
    "similarityMatrix = generateKNNSimilarityMatrix(similarityFunction,data, s, 5) #add argument for column #s\n",
    "adjacencyMatrix = generateAdjacencyMatrix(data, similarityMatrix, s)\n",
    "degreeMatrix = generateDegreeMatrix(adjacencyMatrix, s)\n",
    "laplacianMatrix = degreeMatrix - adjacencyMatrix\n",
    "normalizedLaplacianMatrix = generateNormalizedLaplacianMatrix(degreeMatrix, laplacianMatrix, s)\n",
    "normalizedRWLaplacian = generateNormRWLaplacian(degreeMatrix,laplacianMatrix,s)\n",
    "\n",
    "ourLaplace = normalizedLaplacianMatrix\n",
    "#ourLaplace = normalizedRWLaplacian\n",
    "\n",
    "k = calculateK(ourLaplace)\n",
    "k = 2\n",
    "eigvecLaplacian = eigvecs(ourLaplace)\n",
    "kEigvecLaplacian = getFirstKEigvecs(eigvecLaplacian, s, k)\n",
    "\n",
    "X = transpose(kEigvecLaplacian)\n",
    "R = kmeans(X, k; maxiter=300, display=:iter)\n",
    "\n",
    "# plot with the point color mapped to the assigned cluster index\n",
    "scatter(data.x, data.y, marker_z=R.assignments,\n",
    "        color=:lightrainbow, legend=false)"
   ]
  },
  {
   "cell_type": "code",
   "execution_count": null,
   "metadata": {},
   "outputs": [],
   "source": []
  },
  {
   "cell_type": "code",
   "execution_count": null,
   "metadata": {},
   "outputs": [],
   "source": []
  },
  {
   "cell_type": "code",
   "execution_count": null,
   "metadata": {},
   "outputs": [],
   "source": []
  },
  {
   "cell_type": "code",
   "execution_count": null,
   "metadata": {},
   "outputs": [],
   "source": []
  },
  {
   "cell_type": "code",
   "execution_count": null,
   "metadata": {},
   "outputs": [],
   "source": []
  },
  {
   "cell_type": "code",
   "execution_count": null,
   "metadata": {},
   "outputs": [],
   "source": []
  }
 ],
 "metadata": {
  "kernelspec": {
   "display_name": "Julia 1.5.3",
   "language": "julia",
   "name": "julia-1.5"
  },
  "language_info": {
   "file_extension": ".jl",
   "mimetype": "application/julia",
   "name": "julia",
   "version": "1.5.3"
  }
 },
 "nbformat": 4,
 "nbformat_minor": 4
}
