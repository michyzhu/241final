{
 "cells": [
  {
   "cell_type": "code",
   "execution_count": 5,
   "metadata": {},
   "outputs": [
    {
     "data": {
      "text/plain": [
       "150×150 Array{Float64,2}:\n",
       " 46.0  -1.0  -1.0  -1.0  -1.0  -1.0  …   0.0   0.0   0.0   0.0   0.0   0.0\n",
       " -1.0  46.0  -1.0  -1.0  -1.0  -1.0      0.0   0.0   0.0   0.0   0.0   0.0\n",
       " -1.0  -1.0  46.0  -1.0  -1.0  -1.0      0.0   0.0   0.0   0.0   0.0   0.0\n",
       " -1.0  -1.0  -1.0  46.0  -1.0  -1.0      0.0   0.0   0.0   0.0   0.0   0.0\n",
       " -1.0  -1.0  -1.0  -1.0  46.0  -1.0      0.0   0.0   0.0   0.0   0.0   0.0\n",
       " -1.0  -1.0  -1.0  -1.0  -1.0  43.0  …   0.0   0.0   0.0   0.0   0.0   0.0\n",
       " -1.0  -1.0  -1.0  -1.0  -1.0  -1.0      0.0   0.0   0.0   0.0   0.0   0.0\n",
       " -1.0  -1.0  -1.0  -1.0  -1.0  -1.0      0.0   0.0   0.0   0.0   0.0   0.0\n",
       " -1.0  -1.0  -1.0  -1.0  -1.0  -1.0      0.0   0.0   0.0   0.0   0.0   0.0\n",
       " -1.0  -1.0  -1.0  -1.0  -1.0   0.0      0.0   0.0   0.0   0.0   0.0   0.0\n",
       " -1.0  -1.0  -1.0  -1.0  -1.0  -1.0  …   0.0   0.0   0.0   0.0   0.0   0.0\n",
       " -1.0  -1.0  -1.0  -1.0  -1.0  -1.0      0.0   0.0   0.0   0.0   0.0   0.0\n",
       " -1.0  -1.0  -1.0  -1.0  -1.0   0.0      0.0   0.0   0.0   0.0   0.0   0.0\n",
       "  ⋮                             ⋮    ⋱         ⋮                      \n",
       "  0.0   0.0   0.0   0.0   0.0   0.0      0.0   0.0  -1.0  -1.0   0.0  -1.0\n",
       "  0.0   0.0   0.0   0.0   0.0   0.0      0.0  -1.0  -1.0  -1.0  -1.0   0.0\n",
       "  0.0   0.0   0.0   0.0   0.0   0.0  …  -1.0  -1.0   0.0   0.0  -1.0   0.0\n",
       "  0.0   0.0   0.0   0.0   0.0   0.0     -1.0  -1.0   0.0   0.0  -1.0   0.0\n",
       "  0.0   0.0   0.0   0.0   0.0   0.0      0.0   0.0  -1.0  -1.0   0.0  -1.0\n",
       "  0.0   0.0   0.0   0.0   0.0   0.0     -1.0  -1.0   0.0   0.0  -1.0   0.0\n",
       "  0.0   0.0   0.0   0.0   0.0   0.0     12.0  -1.0   0.0   0.0  -1.0   0.0\n",
       "  0.0   0.0   0.0   0.0   0.0   0.0  …  -1.0  21.0   0.0   0.0  -1.0   0.0\n",
       "  0.0   0.0   0.0   0.0   0.0   0.0      0.0   0.0  29.0  -1.0   0.0  -1.0\n",
       "  0.0   0.0   0.0   0.0   0.0   0.0      0.0   0.0  -1.0  30.0   0.0  -1.0\n",
       "  0.0   0.0   0.0   0.0   0.0   0.0     -1.0  -1.0   0.0   0.0  21.0   0.0\n",
       "  0.0   0.0   0.0   0.0   0.0   0.0      0.0   0.0  -1.0  -1.0   0.0  27.0"
      ]
     },
     "execution_count": 5,
     "metadata": {},
     "output_type": "execute_result"
    }
   ],
   "source": [
    "using CSV\n",
    "using LinearAlgebra\n",
    "using Clustering\n",
    "using NBInclude\n",
    "@nbinclude(\"functions.ipynb\")\n",
    "\n",
    "irisData = CSV.File(\"Iris Data Set.csv\")\n",
    "similarityMatrix = generateSimilarityMatrix(irisData) #add argument for column #s\n",
    "adjacencyMatrix = generateAdjacencyMatrix(irisData, similarityMatrix)\n",
    "degreeMatrix = generateDegreeMatrix(adjacencyMatrix)\n",
    "laplacianMatrix = degreeMatrix - adjacencyMatrix\n",
    "eigvecLaplacian = eigvecs(laplacianMatrix)"
   ]
  },
  {
   "cell_type": "code",
   "execution_count": null,
   "metadata": {},
   "outputs": [],
   "source": []
  },
  {
   "cell_type": "code",
   "execution_count": null,
   "metadata": {},
   "outputs": [],
   "source": []
  }
 ],
 "metadata": {
  "kernelspec": {
   "display_name": "Julia 1.5.3",
   "language": "julia",
   "name": "julia-1.5"
  },
  "language_info": {
   "file_extension": ".jl",
   "mimetype": "application/julia",
   "name": "julia",
   "version": "1.5.3"
  }
 },
 "nbformat": 4,
 "nbformat_minor": 4
}
