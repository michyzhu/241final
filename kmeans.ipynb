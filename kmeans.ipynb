{
 "cells": [
  {
   "cell_type": "code",
   "execution_count": null,
   "metadata": {},
   "outputs": [],
   "source": [
    "function kmeans(n, k, data)\n",
    "    \n",
    "    #initialize centroids with random values\n",
    "    centroids = zeros(n)\n",
    "    for i = 1:n\n",
    "        centroids[i] = rand() * (max - min) + min\n",
    "    end\n",
    "    \n",
    "    while (!converged())\n",
    "        \n",
    "        minDistance = max_value(Int)\n",
    "        for j = 1:n\n",
    "            if \n",
    "            \n",
    "    "
   ]
  }
 ],
 "metadata": {
  "kernelspec": {
   "display_name": "Julia 1.5.3",
   "language": "julia",
   "name": "julia-1.5"
  },
  "language_info": {
   "file_extension": ".jl",
   "mimetype": "application/julia",
   "name": "julia",
   "version": "1.5.3"
  }
 },
 "nbformat": 4,
 "nbformat_minor": 4
}
