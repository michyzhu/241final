{
 "cells": [
  {
   "cell_type": "code",
   "execution_count": 1,
   "metadata": {},
   "outputs": [
    {
     "data": {
      "text/plain": [
       "generateSimilarityMatrixCircles (generic function with 1 method)"
      ]
     },
     "execution_count": 1,
     "metadata": {},
     "output_type": "execute_result"
    }
   ],
   "source": [
    "function generateSimilarityMatrixCircles(data, size)\n",
    "    similarityMatrix = zeros(size, size)\n",
    "    for row in data\n",
    "        for col in data\n",
    "            dist1 = sqrt(row.x^2 + row.y^2)\n",
    "            dist2 = sqrt(col.x^2 + col.y^2)\n",
    "            similarityMatrix[row.Index, col.Index] = abs(dist1 - dist2);\n",
    "        end\n",
    "    end\n",
    "    return similarityMatrix\n",
    "end"
   ]
  },
  {
   "cell_type": "code",
   "execution_count": 2,
   "metadata": {},
   "outputs": [
    {
     "data": {
      "text/plain": [
       "generateSimilarityMatrixMoons (generic function with 1 method)"
      ]
     },
     "execution_count": 2,
     "metadata": {},
     "output_type": "execute_result"
    }
   ],
   "source": [
    "function generateSimilarityMatrixMoons(data, size)\n",
    "    similarityMatrix = zeros(size, size)\n",
    "    for row in data\n",
    "        for col in data\n",
    "            dx = row.x - col.x\n",
    "            dy = row.y - col.y\n",
    "            similarityMatrix[row.Index, col.Index] = sqrt(dx^2 + dy^2);\n",
    "        end\n",
    "    end\n",
    "    return similarityMatrix\n",
    "end"
   ]
  },
  {
   "cell_type": "code",
   "execution_count": 12,
   "metadata": {},
   "outputs": [
    {
     "data": {
      "text/plain": [
       "generateAdjacencyMatrix (generic function with 2 methods)"
      ]
     },
     "execution_count": 12,
     "metadata": {},
     "output_type": "execute_result"
    }
   ],
   "source": [
    "function generateAdjacencyMatrix(data, similarityMatrix, size, threshold)\n",
    "    adjacencyMatrix = zeros(size, size)\n",
    "    for row in data\n",
    "        for col in data\n",
    "            if similarityMatrix[row.Index, col.Index] > threshold\n",
    "                adjacencyMatrix[row.Index, col.Index] = 0\n",
    "            else\n",
    "                adjacencyMatrix[row.Index, col.Index] = 1\n",
    "            end\n",
    "\n",
    "        end\n",
    "    end\n",
    "    display(adjacencyMatrix)\n",
    "    return adjacencyMatrix\n",
    "end"
   ]
  },
  {
   "cell_type": "code",
   "execution_count": 11,
   "metadata": {},
   "outputs": [
    {
     "data": {
      "text/plain": [
       "generateAdjacencyMatrix (generic function with 1 method)"
      ]
     },
     "execution_count": 11,
     "metadata": {},
     "output_type": "execute_result"
    }
   ],
   "source": [
    "function generateAdjacencyMatrix(data, similarityMatrix, size)\n",
    "    adjacencyMatrix = zeros(size, size)\n",
    "    for row in data\n",
    "        for col in data\n",
    "            if similarityMatrix[row.Index, col.Index] > .055555\n",
    "                adjacencyMatrix[row.Index, col.Index] = 0   \n",
    "            else\n",
    "                adjacencyMatrix[row.Index, col.Index] = 1\n",
    "            end\n",
    "\n",
    "        end\n",
    "    end\n",
    "    display(adjacencyMatrix)\n",
    "    return adjacencyMatrix\n",
    "end"
   ]
  },
  {
   "cell_type": "code",
   "execution_count": 4,
   "metadata": {},
   "outputs": [
    {
     "data": {
      "text/plain": [
       "generateDegreeMatrix (generic function with 1 method)"
      ]
     },
     "execution_count": 4,
     "metadata": {},
     "output_type": "execute_result"
    }
   ],
   "source": [
    "function generateDegreeMatrix(adjacencyMatrix, size)\n",
    "    degreeMatrix = zeros(size, size)\n",
    "    for i = 1:size\n",
    "        counter = 0\n",
    "        for j = 1:size\n",
    "            if i != j\n",
    "                if adjacencyMatrix[i, j] == 1\n",
    "                    counter = counter + 1\n",
    "                end\n",
    "            end\n",
    "        end\n",
    "        degreeMatrix[i, i] = counter;\n",
    "    end\n",
    "    return degreeMatrix\n",
    "end"
   ]
  },
  {
   "cell_type": "code",
   "execution_count": 5,
   "metadata": {},
   "outputs": [
    {
     "data": {
      "text/plain": [
       "getFirstKEigvecs (generic function with 1 method)"
      ]
     },
     "execution_count": 5,
     "metadata": {},
     "output_type": "execute_result"
    }
   ],
   "source": [
    "function getFirstKEigvecs(kEigvecLaplacian, size, k)\n",
    "    #get first k eigenvalues\n",
    "    kEigvecLaplacian = zeros(size, k)\n",
    "    for j = 1:k\n",
    "        kEigvecLaplacian[:, j] = eigvecLaplacian[:, j]\n",
    "    end\n",
    "    return kEigvecLaplacian\n",
    "end"
   ]
  },
  {
   "cell_type": "code",
   "execution_count": 6,
   "metadata": {},
   "outputs": [
    {
     "data": {
      "text/plain": [
       "generateNormalizedLaplacianMatrix (generic function with 1 method)"
      ]
     },
     "execution_count": 6,
     "metadata": {},
     "output_type": "execute_result"
    }
   ],
   "source": [
    "function generateNormalizedLaplacianMatrix(degreeMatrix, laplacianMatrix, size)\n",
    "    degreeMatrixPower = zeros(size, size);\n",
    "    for i = 1:size\n",
    "        degreeMatrixPower[i,i] = degreeMatrix[i,i]^(-1/2)\n",
    "    end\n",
    "    normalizedLaplacianMatrix = degreeMatrixPower * laplacianMatrix * degreeMatrixPower\n",
    "end"
   ]
  },
  {
   "cell_type": "code",
   "execution_count": 8,
   "metadata": {},
   "outputs": [
    {
     "data": {
      "text/plain": [
       "generateNormRWLaplacian (generic function with 1 method)"
      ]
     },
     "execution_count": 8,
     "metadata": {},
     "output_type": "execute_result"
    }
   ],
   "source": [
    "function generateNormRWLaplacian(degreeMatrix, laplacianMatrix, size)\n",
    "    degreeInv = zeros(size, size);\n",
    "    for i = 1:size\n",
    "        degreeInv[i,i] = degreeMatrix[i,i]^(-1)\n",
    "    end\n",
    "    normalizedLaplacianMatrix = degreeInv * laplacianMatrix\n",
    "end"
   ]
  },
  {
   "cell_type": "code",
   "execution_count": 7,
   "metadata": {},
   "outputs": [
    {
     "data": {
      "text/plain": [
       "calculateK (generic function with 1 method)"
      ]
     },
     "execution_count": 7,
     "metadata": {},
     "output_type": "execute_result"
    }
   ],
   "source": [
    "function calculateK(laplacianMatrix)\n",
    "    eigvalLaplacian = eigvals(laplacianMatrix)\n",
    "\n",
    "    maxGap = -1\n",
    "    bestK = -1\n",
    "\n",
    "    for k = 2:10\n",
    "        gap = abs(eigvalLaplacian[k] - eigvalLaplacian[k-1])\n",
    "        if (gap > maxGap)\n",
    "            maxGap = gap\n",
    "            bestK = k\n",
    "        end\n",
    "    end\n",
    "    display(bestK) \n",
    "end"
   ]
  },
  {
   "cell_type": "code",
   "execution_count": null,
   "metadata": {},
   "outputs": [],
   "source": []
  },
  {
   "cell_type": "code",
   "execution_count": null,
   "metadata": {},
   "outputs": [],
   "source": []
  },
  {
   "cell_type": "code",
   "execution_count": null,
   "metadata": {},
   "outputs": [],
   "source": []
  }
 ],
 "metadata": {
  "kernelspec": {
   "display_name": "Julia 1.5.1",
   "language": "julia",
   "name": "julia-1.5"
  },
  "language_info": {
   "file_extension": ".jl",
   "mimetype": "application/julia",
   "name": "julia",
   "version": "1.5.1"
  }
 },
 "nbformat": 4,
 "nbformat_minor": 4
}
