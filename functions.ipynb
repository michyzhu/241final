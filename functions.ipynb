{
 "cells": [
  {
   "cell_type": "code",
   "execution_count": 1,
   "metadata": {},
   "outputs": [
    {
     "data": {
      "text/plain": [
       "euclideanBetweenTwoPoints (generic function with 1 method)"
      ]
     },
     "execution_count": 1,
     "metadata": {},
     "output_type": "execute_result"
    }
   ],
   "source": [
    "function euclideanBetweenTwoPoints(d1,d2)\n",
    "    dx = d1.x - d2.x\n",
    "    dy = d1.y - d2.y\n",
    "    return sqrt(dx^2 + dy^2);\n",
    "end"
   ]
  },
  {
   "cell_type": "code",
   "execution_count": 2,
   "metadata": {},
   "outputs": [
    {
     "data": {
      "text/plain": [
       "euclideanToFixed (generic function with 1 method)"
      ]
     },
     "execution_count": 2,
     "metadata": {},
     "output_type": "execute_result"
    }
   ],
   "source": [
    "function euclideanToFixed(d1,d2)\n",
    "    dist1 = sqrt(d1.x^2 + d1.y^2)\n",
    "    dist2 = sqrt(d2.x^2 + d2.y^2)\n",
    "    return abs(dist1 - dist2);\n",
    "end"
   ]
  },
  {
   "cell_type": "code",
   "execution_count": 3,
   "metadata": {},
   "outputs": [
    {
     "data": {
      "text/plain": [
       "generateSimilarityMatrix (generic function with 1 method)"
      ]
     },
     "execution_count": 3,
     "metadata": {},
     "output_type": "execute_result"
    }
   ],
   "source": [
    "function generateSimilarityMatrix(similarityFunction,data, size)\n",
    "    similarityMatrix = zeros(size,size)\n",
    "    for d1 in data\n",
    "        for d2 in data\n",
    "            similarityMatrix[d1.Index, d2.Index] = similarityFunction(d1,d2) # row,col are data points with (x,y) vals\n",
    "        end\n",
    "    end\n",
    "    return similarityMatrix\n",
    "end"
   ]
  },
  {
   "cell_type": "code",
   "execution_count": 4,
   "metadata": {},
   "outputs": [
    {
     "data": {
      "text/plain": [
       "irisCompare (generic function with 1 method)"
      ]
     },
     "execution_count": 4,
     "metadata": {},
     "output_type": "execute_result"
    }
   ],
   "source": [
    "function irisCompare(i, j)\n",
    "    return i.sepalWidth - j.sepalWidth;\n",
    "end"
   ]
  },
  {
   "cell_type": "code",
   "execution_count": 13,
   "metadata": {},
   "outputs": [
    {
     "data": {
      "text/plain": [
       "generateKNNSimilarityMatrix (generic function with 1 method)"
      ]
     },
     "execution_count": 13,
     "metadata": {},
     "output_type": "execute_result"
    }
   ],
   "source": [
    "function generateKNNSimilarityMatrix(similarityFunction, data, size, kNeighbors)\n",
    "    \n",
    "    #initialize array of priorityqueues\n",
    "    similarityQueues = Array{PriorityQueue{Int,Int,Base.Order.ForwardOrdering}, size}\n",
    "    for i in 1:size\n",
    "        similarityQueues[i] = PriorityQueue{Int64,Int64,Base.Order.ForwardOrdering}()\n",
    "    end\n",
    "    \n",
    "    #fill priorityqueues with similarity values, only top k are preserved\n",
    "    for d1 in data\n",
    "        for d2 in data\n",
    "           enqueue(similarityQueues[d1.Index], d2.Index, similarity(d1, d2))\n",
    "            \n",
    "            if (i > kNeighbors)\n",
    "                dequeue(similarityQueues[d1.Index])\n",
    "            end\n",
    "        end\n",
    "    end\n",
    "    \n",
    "    #create and fill similarity matrix\n",
    "    similarityMatrix = zeros(size,size)\n",
    "    for d1 in data\n",
    "        for d2 in data\n",
    "            k = dequeue(similarityQueues[d1.Index])\n",
    "            similarityMatrix[d1.Index, k] = similarity(d1.Index, d2.Index)\n",
    "        end\n",
    "    end\n",
    "    display(similarityMatrix)\n",
    "    return similarityMatrix\n",
    "end"
   ]
  },
  {
   "cell_type": "code",
   "execution_count": 12,
   "metadata": {},
   "outputs": [
    {
     "data": {
      "text/plain": [
       "generateAdjacencyMatrix (generic function with 1 method)"
      ]
     },
     "execution_count": 12,
     "metadata": {},
     "output_type": "execute_result"
    }
   ],
   "source": [
    "function generateAdjacencyMatrix(data, similarityMatrix, size, threshold)\n",
    "    adjacencyMatrix = zeros(size, size)\n",
    "    i = 0\n",
    "    for row in data\n",
    "        j = 0\n",
    "        for col in data\n",
    "            if similarityMatrix[row.Index, col.Index] > threshold\n",
    "                adjacencyMatrix[row.Index, col.Index] = 0\n",
    "            else\n",
    "                adjacencyMatrix[row.Index, col.Index] = 1\n",
    "            end\n",
    "\n",
    "        end\n",
    "    end\n",
    "    #display(adjacencyMatrix)\n",
    "    return adjacencyMatrix\n",
    "end"
   ]
  },
  {
   "cell_type": "code",
   "execution_count": 7,
   "metadata": {},
   "outputs": [
    {
     "data": {
      "text/plain": [
       "generateDegreeMatrix (generic function with 1 method)"
      ]
     },
     "execution_count": 7,
     "metadata": {},
     "output_type": "execute_result"
    }
   ],
   "source": [
    "function generateDegreeMatrix(adjacencyMatrix, size)\n",
    "    degreeMatrix = zeros(size, size)\n",
    "    for i = 1:size\n",
    "        counter = 0\n",
    "        for j = 1:size\n",
    "            if i != j\n",
    "                if adjacencyMatrix[i, j] == 1\n",
    "                    counter = counter + 1\n",
    "                end\n",
    "            end\n",
    "        end\n",
    "        degreeMatrix[i, i] = counter;\n",
    "    end\n",
    "    return degreeMatrix\n",
    "end"
   ]
  },
  {
   "cell_type": "code",
   "execution_count": 8,
   "metadata": {},
   "outputs": [
    {
     "data": {
      "text/plain": [
       "getFirstKEigvecs (generic function with 1 method)"
      ]
     },
     "execution_count": 8,
     "metadata": {},
     "output_type": "execute_result"
    }
   ],
   "source": [
    "function getFirstKEigvecs(kEigvecLaplacian, size, k)\n",
    "    #get first k eigenvalues\n",
    "    kEigvecLaplacian = zeros(size, k)\n",
    "    for j = 1:k\n",
    "        kEigvecLaplacian[:, j] = eigvecLaplacian[:, j]\n",
    "    end\n",
    "    return kEigvecLaplacian\n",
    "end"
   ]
  },
  {
   "cell_type": "code",
   "execution_count": 9,
   "metadata": {},
   "outputs": [
    {
     "data": {
      "text/plain": [
       "generateNormalizedLaplacianMatrix (generic function with 1 method)"
      ]
     },
     "execution_count": 9,
     "metadata": {},
     "output_type": "execute_result"
    }
   ],
   "source": [
    "function generateNormalizedLaplacianMatrix(degreeMatrix, laplacianMatrix, size)\n",
    "    degreeMatrixPower = zeros(size, size);\n",
    "    for i = 1:size\n",
    "        degreeMatrixPower[i,i] = degreeMatrix[i,i]^(-1/2)\n",
    "    end\n",
    "    normalizedLaplacianMatrix = degreeMatrixPower * laplacianMatrix * degreeMatrixPower\n",
    "end"
   ]
  },
  {
   "cell_type": "code",
   "execution_count": 10,
   "metadata": {},
   "outputs": [
    {
     "data": {
      "text/plain": [
       "generateNormRWLaplacian (generic function with 1 method)"
      ]
     },
     "execution_count": 10,
     "metadata": {},
     "output_type": "execute_result"
    }
   ],
   "source": [
    "function generateNormRWLaplacian(degreeMatrix, laplacianMatrix, size)\n",
    "    degreeInv = zeros(size, size);\n",
    "    for i = 1:size\n",
    "        degreeInv[i,i] = degreeMatrix[i,i]^(-1)\n",
    "    end\n",
    "    normalizedLaplacianMatrix = degreeInv * laplacianMatrix\n",
    "end"
   ]
  },
  {
   "cell_type": "code",
   "execution_count": 11,
   "metadata": {},
   "outputs": [
    {
     "data": {
      "text/plain": [
       "calculateK (generic function with 1 method)"
      ]
     },
     "execution_count": 11,
     "metadata": {},
     "output_type": "execute_result"
    }
   ],
   "source": [
    "function calculateK(laplacianMatrix)\n",
    "    flush(stdout)\n",
    "    eigvalLaplacian = eigvals(laplacianMatrix)\n",
    "    print(\"here\")\n",
    "    maxGap = -1\n",
    "    bestK = -1\n",
    "\n",
    "    for k = 2:10\n",
    "        printf(\"%f\",eigvalLaplacian[k])\n",
    "        gap = abs(eigvalLaplacian[k] - eigvalLaplacian[k-1])\n",
    "        if (gap > maxGap)\n",
    "            maxGap = gap\n",
    "            bestK = k\n",
    "        end\n",
    "    end\n",
    "    display(bestK)\n",
    "    return bestK\n",
    "end"
   ]
  },
  {
   "cell_type": "code",
   "execution_count": null,
   "metadata": {},
   "outputs": [],
   "source": []
  },
  {
   "cell_type": "code",
   "execution_count": null,
   "metadata": {},
   "outputs": [],
   "source": []
  },
  {
   "cell_type": "code",
   "execution_count": null,
   "metadata": {},
   "outputs": [],
   "source": []
  },
  {
   "cell_type": "code",
   "execution_count": null,
   "metadata": {},
   "outputs": [],
   "source": []
  },
  {
   "cell_type": "code",
   "execution_count": null,
   "metadata": {},
   "outputs": [],
   "source": []
  },
  {
   "cell_type": "code",
   "execution_count": null,
   "metadata": {},
   "outputs": [],
   "source": []
  }
 ],
 "metadata": {
  "kernelspec": {
   "display_name": "Julia 1.5.1",
   "language": "julia",
   "name": "julia-1.5"
  },
  "language_info": {
   "file_extension": ".jl",
   "mimetype": "application/julia",
   "name": "julia",
   "version": "1.5.1"
  }
 },
 "nbformat": 4,
 "nbformat_minor": 4
}
