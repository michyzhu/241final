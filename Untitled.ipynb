{
 "cells": [
  {
   "cell_type": "code",
   "execution_count": 13,
   "metadata": {},
   "outputs": [
    {
     "name": "stderr",
     "output_type": "stream",
     "text": [
      "\u001b[32m\u001b[1m  Resolving\u001b[22m\u001b[39m package versions...\n",
      "\u001b[32m\u001b[1mNo Changes\u001b[22m\u001b[39m to `~/.julia/environments/v1.5/Project.toml`\n",
      "\u001b[32m\u001b[1mNo Changes\u001b[22m\u001b[39m to `~/.julia/environments/v1.5/Manifest.toml`\n",
      "\u001b[32m\u001b[1m  Resolving\u001b[22m\u001b[39m package versions...\n",
      "\u001b[32m\u001b[1mNo Changes\u001b[22m\u001b[39m to `~/.julia/environments/v1.5/Project.toml`\n",
      "\u001b[32m\u001b[1mNo Changes\u001b[22m\u001b[39m to `~/.julia/environments/v1.5/Manifest.toml`\n",
      "\u001b[32m\u001b[1m  Resolving\u001b[22m\u001b[39m package versions...\n",
      "\u001b[32m\u001b[1mNo Changes\u001b[22m\u001b[39m to `~/.julia/environments/v1.5/Project.toml`\n",
      "\u001b[32m\u001b[1mNo Changes\u001b[22m\u001b[39m to `~/.julia/environments/v1.5/Manifest.toml`\n",
      "\u001b[32m\u001b[1m  Resolving\u001b[22m\u001b[39m package versions...\n",
      "\u001b[32m\u001b[1mNo Changes\u001b[22m\u001b[39m to `~/.julia/environments/v1.5/Project.toml`\n",
      "\u001b[32m\u001b[1mNo Changes\u001b[22m\u001b[39m to `~/.julia/environments/v1.5/Manifest.toml`\n",
      "\u001b[32m\u001b[1m  Resolving\u001b[22m\u001b[39m package versions...\n",
      "\u001b[32m\u001b[1mNo Changes\u001b[22m\u001b[39m to `~/.julia/environments/v1.5/Project.toml`\n",
      "\u001b[32m\u001b[1mNo Changes\u001b[22m\u001b[39m to `~/.julia/environments/v1.5/Manifest.toml`\n",
      "\u001b[32m\u001b[1m  Resolving\u001b[22m\u001b[39m package versions...\n",
      "\u001b[32m\u001b[1mUpdating\u001b[22m\u001b[39m `~/.julia/environments/v1.5/Project.toml`\n",
      " \u001b[90m [a93c6f00] \u001b[39m\u001b[92m+ DataFrames v0.22.1\u001b[39m\n",
      "\u001b[32m\u001b[1mNo Changes\u001b[22m\u001b[39m to `~/.julia/environments/v1.5/Manifest.toml`\n"
     ]
    },
    {
     "data": {
      "text/plain": [
       "calculateK (generic function with 1 method)"
      ]
     },
     "execution_count": 13,
     "metadata": {},
     "output_type": "execute_result"
    }
   ],
   "source": [
    "# import everything\n",
    "using Pkg\n",
    "Pkg.add(\"CSV\")\n",
    "Pkg.add(\"Clustering\")\n",
    "Pkg.add(\"NBInclude\")\n",
    "Pkg.add(\"Plots\")\n",
    "Pkg.add(\"RDatasets\")\n",
    "Pkg.add(\"DataFrames\")\n",
    "using CSV\n",
    "using LinearAlgebra\n",
    "using Clustering\n",
    "using NBInclude\n",
    "using Plots\n",
    "using RDatasets\n",
    "using DataFrames\n",
    "@nbinclude(\"functions.ipynb\")"
   ]
  },
  {
   "cell_type": "code",
   "execution_count": 28,
   "metadata": {},
   "outputs": [
    {
     "data": {
      "text/plain": [
       "gaussyBoi (generic function with 1 method)"
      ]
     },
     "execution_count": 28,
     "metadata": {},
     "output_type": "execute_result"
    }
   ],
   "source": [
    "function gaussyBoi(d1,d2)\n",
    "    magnitude = 0\n",
    "    for i in 2:990\n",
    "        magnitude = magnitude + (d1[Symbol(\"gene_\", i)]-d2[Symbol(\"gene_\", i)])^2\n",
    "    end\n",
    "    sig = 5\n",
    "    return exp(-magnitude/(2*sig^2))\n",
    "end\n",
    "\n",
    "\n",
    "#for row in CSV.Rows(file)\n",
    "#    println(\"a=$(row.a), b=$(row.b), c=$(row.c)\")\n",
    "#end"
   ]
  },
  {
   "cell_type": "code",
   "execution_count": 26,
   "metadata": {},
   "outputs": [
    {
     "data": {
      "text/plain": [
       "generateSimilarityMatrix (generic function with 2 methods)"
      ]
     },
     "execution_count": 26,
     "metadata": {},
     "output_type": "execute_result"
    }
   ],
   "source": [
    "function generateSimilarityMatrix(data,size)\n",
    "    similarityMatrix = zeros(size,size) # 800 by 800 array\n",
    "    for i in 1:800\n",
    "        print(\"row\",i)\n",
    "        d1 = data[i,:]\n",
    "        for j in 1:800\n",
    "            d2 = data[j,:]\n",
    "            similarityMatrix[i, j] = gaussyBoi(d1,d2);\n",
    "        end\n",
    "    end\n",
    "    return similarityMatrix\n",
    "end"
   ]
  },
  {
   "cell_type": "code",
   "execution_count": 29,
   "metadata": {},
   "outputs": [
    {
     "name": "stdout",
     "output_type": "stream",
     "text": [
      "about to similarityrow1row2row3row4row5row6row7row8row9row10row11row12row13row14row15row16row17row18row19row20row21row22row23row24row25row26row27row28row29row30row31row32row33row34row35row36row37row38row39row40row41row42row43row44row45row46row47row48row49row50row51row52row53row54row55row56row57row58row59row60row61row62row63row64row65row66row67row68row69row70row71row72row73row74row75row76row77row78row79row80row81row82row83row84row85row86row87row88row89row90row91row92row93row94row95row96row97row98row99row100row101row102row103row104row105row106row107row108row109row110row111row112row113row114row115row116row117row118row119row120row121row122row123row124row125row126row127row128row129row130row131row132row133row134row135row136row137row138row139row140row141row142row143row144row145row146row147row148row149row150row151row152row153row154row155row156row157row158row159row160row161row162row163row164row165row166row167row168row169row170row171row172row173row174row175row176row177row178row179row180row181row182row183row184row185row186row187row188row189row190row191row192row193row194row195row196row197row198row199row200row201row202row203row204row205row206row207row208row209row210row211row212row213row214row215row216row217row218row219row220row221row222row223row224row225row226row227row228row229row230row231row232row233row234row235row236row237row238row239row240row241row242row243row244row245row246row247row248row249row250row251row252row253row254row255row256row257row258row259row260row261row262row263row264row265row266row267row268row269row270row271row272row273row274row275row276row277row278row279row280row281row282row283row284row285row286row287row288row289row290row291row292row293row294row295row296row297row298row299row300row301row302row303row304row305row306row307row308row309row310row311row312row313row314row315row316row317row318row319row320row321row322row323row324row325row326row327row328row329row330row331row332row333row334row335row336row337row338row339row340row341row342row343row344row345row346row347row348row349row350row351row352row353row354row355row356row357row358row359row360row361row362row363row364row365row366row367row368row369row370row371row372row373row374row375row376row377row378row379row380row381row382row383row384row385row386row387row388row389row390row391row392row393row394row395row396row397row398row399row400row401row402row403row404row405row406row407row408row409row410row411row412row413row414row415row416row417row418row419row420row421row422row423row424row425row426row427row428row429row430row431row432row433row434row435row436row437row438row439row440row441row442row443row444row445row446row447row448row449row450row451row452row453row454row455row456row457row458row459row460row461row462row463row464row465row466row467row468row469row470row471row472row473row474row475row476row477row478row479row480row481row482row483row484row485row486row487row488row489row490row491row492row493row494row495row496row497row498row499row500row501row502row503row504row505row506row507row508row509row510row511row512row513row514row515row516row517row518row519row520row521row522row523row524row525row526row527row528row529row530row531row532row533row534row535row536row537row538row539row540row541row542row543row544row545row546row547row548row549row550row551row552row553row554row555row556row557row558row559row560row561row562row563row564row565row566row567row568row569row570row571row572row573row574row575row576row577row578row579row580row581row582row583row584row585row586row587row588row589row590row591row592row593row594row595row596row597row598row599row600row601row602row603row604row605row606row607row608row609row610row611row612row613row614row615row616row617row618row619row620row621row622row623row624row625row626row627row628row629row630row631row632row633row634row635row636row637row638row639row640row641row642row643row644row645row646row647row648row649row650row651row652row653row654row655row656row657row658row659row660row661row662row663row664row665row666row667row668row669row670row671row672row673row674row675row676row677row678row679row680row681row682row683row684row685row686row687row688row689row690row691row692row693row694row695row696row697row698row699row700row701row702row703row704row705row706row707row708row709row710row711row712row713row714row715row716row717row718row719row720row721row722row723row724row725row726row727row728row729row730row731row732row733row734row735row736row737row738row739row740row741row742row743row744row745row746row747row748row749row750row751row752row753row754row755row756row757row758row759row760row761row762row763row764row765row766row767row768row769row770row771row772row773row774row775row776row777row778row779row780row781row782row783row784row785row786row787row788row789row790row791row792row793row794row795row796row797row798row799row800completed similarity"
     ]
    },
    {
     "ename": "LoadError",
     "evalue": "KeyError: key :Index not found",
     "output_type": "error",
     "traceback": [
      "KeyError: key :Index not found",
      "",
      "Stacktrace:",
      " [1] getindex at ./dict.jl:467 [inlined]",
      " [2] getcolumn at /Users/michellezhu/.julia/packages/CSV/la2cd/src/file.jl:11 [inlined]",
      " [3] getcolumn at /Users/michellezhu/.julia/packages/CSV/la2cd/src/file.jl:23 [inlined]",
      " [4] getproperty(::CSV.Row, ::Symbol) at /Users/michellezhu/.julia/packages/Tables/iG2a3/src/Tables.jl:165",
      " [5] generateAdjacencyMatrix(::CSV.File{false}, ::Array{Float64,2}, ::Int64) at /Users/michellezhu/241final/functions.ipynb:In[16]:5",
      " [6] top-level scope at In[29]:16",
      " [7] include_string(::Function, ::Module, ::String, ::String) at ./loading.jl:1091"
     ]
    }
   ],
   "source": [
    "#circleData = CSV.File(\"circles.csv\")\n",
    "#moonsData = CSV.File(\"moons.csv\")\n",
    "#irisData = CSV.File(\"Iris Data Set.csv\") # load the data\n",
    "geneData = CSV.File(\"data.csv\")\n",
    "\n",
    "\n",
    "df = DataFrame(geneData)\n",
    "# change what data and similarity function you want here\n",
    "data = geneData\n",
    "similarityFunction = gaussyBoi\n",
    "s = 800\n",
    "#print(data[1])\n",
    "print(\"about to similarity\")\n",
    "similarityMatrix = generateSimilarityMatrix(df, s) #add argument for column #s\n",
    "print(\"completed similarity\")\n",
    "adjacencyMatrix = generateAdjacencyMatrix(data, similarityMatrix, s)\n",
    "degreeMatrix = generateDegreeMatrix(adjacencyMatrix, s)\n",
    "laplacianMatrix = degreeMatrix - adjacencyMatrix\n",
    "normalizedLaplacianMatrix = generateNormalizedLaplacianMatrix(degreeMatrix, laplacianMatrix, s)\n",
    "normalizedRWLaplacian = generateNormRWLaplacian(degreeMatrix,laplacianMatrix,s)\n",
    "\n",
    "ourLaplace = normalizedLaplacianMatrix\n",
    "#ourLaplace = normalizedRWLaplacian\n",
    "\n",
    "k = calculateK(ourLaplace)\n",
    "k = 2\n",
    "eigvecLaplacian = eigvecs(ourLaplace)\n",
    "kEigvecLaplacian = getFirstKEigvecs(eigvecLaplacian, s, k)\n",
    "\n",
    "X = transpose(kEigvecLaplacian)\n",
    "R = kmeans(X, k; maxiter=300, display=:iter)\n",
    "\n",
    "# plot with the point color mapped to the assigned cluster index\n",
    "scatter(data.x, data.y, marker_z=R.assignments,\n",
    "        color=:lightrainbow, legend=false)"
   ]
  },
  {
   "cell_type": "code",
   "execution_count": null,
   "metadata": {},
   "outputs": [],
   "source": []
  }
 ],
 "metadata": {
  "kernelspec": {
   "display_name": "Julia 1.5.1",
   "language": "julia",
   "name": "julia-1.5"
  },
  "language_info": {
   "file_extension": ".jl",
   "mimetype": "application/julia",
   "name": "julia",
   "version": "1.5.1"
  }
 },
 "nbformat": 4,
 "nbformat_minor": 4
}
