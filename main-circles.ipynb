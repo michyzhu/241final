{
 "cells": [
  {
   "cell_type": "code",
   "execution_count": 1,
   "metadata": {},
   "outputs": [
    {
     "ename": "LoadError",
     "evalue": "UndefVarError: generateSimilarityMatrix not defined",
     "output_type": "error",
     "traceback": [
      "UndefVarError: generateSimilarityMatrix not defined",
      "",
      "Stacktrace:",
      " [1] top-level scope at In[1]:9",
      " [2] include_string(::Function, ::Module, ::String, ::String) at ./loading.jl:1091"
     ]
    }
   ],
   "source": [
    "using CSV\n",
    "using LinearAlgebra\n",
    "using Clustering\n",
    "using NBInclude\n",
    "using Plots\n",
    "@nbinclude(\"functions.ipynb\")\n",
    "\n",
    "circleData = CSV.File(\"circles.csv\")\n",
    "similarityMatrix = generateSimilarityMatrix(circleData, 500) #add argument for column #s\n",
    "adjacencyMatrix = generateAdjacencyMatrix(circleData, similarityMatrix, 500)\n",
    "degreeMatrix = generateDegreeMatrix(adjacencyMatrix, 500)\n",
    "laplacianMatrix = degreeMatrix - adjacencyMatrix\n",
    "normalizedLaplacianMatrix = generateNormalizedLaplacianMatrix(degreeMatrix, adjacencyMatrix, 500)\n",
    "k = calculateK(normalizedLaplacianMatrix)\n",
    "k = 2\n",
    "eigvecLaplacian = eigvecs(laplacianMatrix)\n",
    "kEigvecLaplacian = getFirstKEigvecs(eigvecLaplacian, 500, k)\n",
    "\n",
    "\n",
    "\n",
    "\n",
    "X = transpose(kEigvecLaplacian)\n",
    "R = kmeans(X, k; maxiter=300, display=:iter)\n",
    "\n",
    "# plot with the point color mapped to the assigned cluster index\n",
    "scatter(circleData.x, circleData.y, marker_z=R.assignments,\n",
    "        color=:lightrainbow, legend=false)"
   ]
  },
  {
   "cell_type": "code",
   "execution_count": null,
   "metadata": {},
   "outputs": [],
   "source": []
  },
  {
   "cell_type": "code",
   "execution_count": null,
   "metadata": {},
   "outputs": [],
   "source": []
  },
  {
   "cell_type": "code",
   "execution_count": null,
   "metadata": {},
   "outputs": [],
   "source": []
  },
  {
   "cell_type": "code",
   "execution_count": null,
   "metadata": {},
   "outputs": [],
   "source": []
  },
  {
   "cell_type": "code",
   "execution_count": null,
   "metadata": {},
   "outputs": [],
   "source": []
  },
  {
   "cell_type": "code",
   "execution_count": null,
   "metadata": {},
   "outputs": [],
   "source": []
  }
 ],
 "metadata": {
  "kernelspec": {
   "display_name": "Julia 1.5.3",
   "language": "julia",
   "name": "julia-1.5"
  },
  "language_info": {
   "file_extension": ".jl",
   "mimetype": "application/julia",
   "name": "julia",
   "version": "1.5.3"
  }
 },
 "nbformat": 4,
 "nbformat_minor": 4
}
